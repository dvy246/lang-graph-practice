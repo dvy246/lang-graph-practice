{
 "cells": [
  {
   "cell_type": "code",
   "execution_count": 1,
   "id": "640d72d3",
   "metadata": {},
   "outputs": [
    {
     "data": {
      "text/plain": [
       "True"
      ]
     },
     "execution_count": 1,
     "metadata": {},
     "output_type": "execute_result"
    }
   ],
   "source": [
    "from langchain_mistralai.chat_models import ChatMistralAI\n",
    "from langgraph.graph import StateGraph,START,END\n",
    "from typing import TypedDict\n",
    "from dotenv import load_dotenv\n",
    "import os\n",
    "\n",
    "load_dotenv()"
   ]
  },
  {
   "cell_type": "code",
   "execution_count": 2,
   "id": "6475755a",
   "metadata": {},
   "outputs": [],
   "source": [
    "#state definition\n",
    "class BMI(TypedDict):\n",
    "    weight:float\n",
    "    height:float\n",
    "    bmi:float\n",
    "    status:str"
   ]
  },
  {
   "cell_type": "code",
   "execution_count": 3,
   "id": "38994c9f",
   "metadata": {},
   "outputs": [],
   "source": [
    "model=ChatMistralAI(api_key=os.getenv('mistral_ai'))"
   ]
  },
  {
   "cell_type": "code",
   "execution_count": 4,
   "id": "3627a2e3",
   "metadata": {},
   "outputs": [],
   "source": [
    "def calculate_bmi(state:BMI)->BMI:\n",
    "    weight=state['weight']\n",
    "    height=state['height']\n",
    "    bmi=round(weight/(height**2),2) \n",
    "    state['bmi']=bmi\n",
    "    return state\n",
    "\n",
    "\n",
    "def judgment(state:BMI)->BMI:\n",
    "    bmi=state['bmi']\n",
    "    if bmi<18.5:\n",
    "        state['status']='underweight'\n",
    "    elif 18.5<=bmi<25:\n",
    "        state['status']='normal'\n",
    "    elif 25 <= bmi < 30:\n",
    "        state[\"category\"] = \"Overweight\"\n",
    "    else:\n",
    "        state[\"category\"] = \"Obese\"\n",
    "    return state\n"
   ]
  },
  {
   "cell_type": "code",
   "execution_count": 5,
   "id": "f6750b54",
   "metadata": {},
   "outputs": [
    {
     "data": {
      "image/png": "[encoded data removed]",
      "text/plain": [
       "<langgraph.graph.state.CompiledStateGraph object at 0x10d736a40>"
      ]
     },
     "execution_count": 5,
     "metadata": {},
     "output_type": "execute_result"
    }
   ],
   "source": [
    "#define ur graph\n",
    "\n",
    "graph=StateGraph(BMI)\n",
    "\n",
    "#add nodes and edges\n",
    "graph.add_node('calculate bmi',calculate_bmi)\n",
    "graph.add_node('judgment',judgment)\n",
    "\n",
    "#add edges\n",
    "\n",
    "graph.add_edge(START,'calculate bmi')\n",
    "graph.add_edge('judgment',END)\n",
    "graph.add_edge('calculate bmi','judgment')\n",
    "\n",
    "#compile\n",
    " \n",
    "workflow=graph.compile()\n",
    "\n",
    "workflow\n"
   ]
  },
  {
   "cell_type": "code",
   "execution_count": 6,
   "id": "3dad6d4e",
   "metadata": {},
   "outputs": [
    {
     "data": {
      "text/plain": [
       "{'weight': 75, 'height': 5.1, 'bmi': 2.88, 'status': 'underweight'}"
      ]
     },
     "execution_count": 6,
     "metadata": {},
     "output_type": "execute_result"
    }
   ],
   "source": [
    "input_state={'weight':75,'height':5.10}\n",
    "\n",
    "result=workflow.invoke(input_state)\n",
    "result"
   ]
  }
 ],
 "metadata": {
  "kernelspec": {
   "display_name": "myenv",
   "language": "python",
   "name": "python3"
  },
  "language_info": {
   "codemirror_mode": {
    "name": "ipython",
    "version": 3
   },
   "file_extension": ".py",
   "mimetype": "text/x-python",
   "name": "python",
   "nbconvert_exporter": "python",
   "pygments_lexer": "ipython3",
   "version": "3.10.18"
  }
 },
 "nbformat": 4,
 "nbformat_minor": 5
}
