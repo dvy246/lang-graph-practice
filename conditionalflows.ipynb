{
 "cells": [
  {
   "cell_type": "code",
   "execution_count": 1,
   "id": "adcbf55f",
   "metadata": {},
   "outputs": [
    {
     "data": {
      "text/plain": [
       "True"
      ]
     },
     "execution_count": 1,
     "metadata": {},
     "output_type": "execute_result"
    }
   ],
   "source": [
    "from langgraph.graph import StateGraph, START, END\n",
    "from typing import TypedDict,Literal\n",
    "from dotenv import load_dotenv\n",
    "from langchain_google_genai import ChatGoogleGenerativeAI\n",
    "from langchain_mistralai import ChatMistralAI\n",
    "from pydantic import BaseModel, Field\n",
    "import os \n",
    "load_dotenv()"
   ]
  },
  {
   "cell_type": "code",
   "execution_count": 2,
   "id": "f0a91741",
   "metadata": {},
   "outputs": [],
   "source": [
    "model=ChatGoogleGenerativeAI(api_key=os.getenv(\"google\"),model=\"gemini-2.5-flash\")"
   ]
  },
  {
   "cell_type": "code",
   "execution_count": 3,
   "id": "62e512e5",
   "metadata": {},
   "outputs": [],
   "source": [
    "class Sentiment(BaseModel):\n",
    "    sentiment: Literal[\"positive\", \"negative\", \"neutral\"] =Field(\n",
    "        description=\"The sentiment of the text\",\n",
    "        examples=\"positive\"\n",
    "        \n",
    "    )\n",
    "\n",
    "google=model.with_structured_output(Sentiment)"
   ]
  },
  {
   "cell_type": "code",
   "execution_count": 4,
   "id": "3a2029dd",
   "metadata": {},
   "outputs": [],
   "source": [
    "class REVIEW(TypedDict):\n",
    "    review: str\n",
    "    sentiment: Literal[\"positive\", \"negative\", \"neutral\"]\n",
    "    response: str\n",
    "    diagnosis:dict\n"
   ]
  },
  {
   "cell_type": "code",
   "execution_count": 5,
   "id": "61d884b6",
   "metadata": {},
   "outputs": [],
   "source": [
    "graph=StateGraph(REVIEW)"
   ]
  },
  {
   "cell_type": "code",
   "execution_count": 6,
   "id": "a728374c",
   "metadata": {},
   "outputs": [],
   "source": [
    "class Diagnosis(BaseModel):\n",
    "    issue_type: Literal[\"UX\", \"Performance\", \"Bug\", \"Support\", \"Other\"] = Field(description='The category of issue mentioned in the review')\n",
    "    tone: Literal[\"angry\", \"frustrated\", \"disappointed\", \"calm\"] = Field(description='The emotional tone expressed by the user')\n",
    "    urgency: Literal[\"low\", \"medium\", \"high\"] = Field(description='How urgent or critical the issue appears to be')"
   ]
  },
  {
   "cell_type": "code",
   "execution_count": 7,
   "id": "e31b45eb",
   "metadata": {},
   "outputs": [],
   "source": [
    "model2=model.with_structured_output(Diagnosis)"
   ]
  },
  {
   "cell_type": "code",
   "execution_count": 14,
   "id": "f0ea9f20",
   "metadata": {},
   "outputs": [],
   "source": [
    "def Sentiment_find(state:REVIEW)->REVIEW['sentiment']:\n",
    "    prompt=f\"what is the sentiment of the following review {state['review']}\"\n",
    "    Sentimenst=google.invoke(prompt).sentiment\n",
    "\n",
    "    return {'sentiment':Sentimenst}"
   ]
  },
  {
   "cell_type": "code",
   "execution_count": 21,
   "id": "c711abe1",
   "metadata": {},
   "outputs": [],
   "source": [
    "def check_sentiment(state:REVIEW)->Literal[\"positive_response\", \"negative_response\", \"neutral_response\"]:\n",
    "    sentiment=state['sentiment']\n",
    "    if sentiment==\"positive\":\n",
    "        return \"positive_response\"\n",
    "    elif sentiment==\"negative\":\n",
    "        return \"negative_response\"\n",
    "    else:\n",
    "        return \"neutral_response\"\n",
    "\n",
    "\n",
    "def positive_response(state:REVIEW)->REVIEW['response']:\n",
    "    prompt=f\"write a positive response for the following review \\m {state['review']}\"\n",
    "    response=model.invoke(prompt).content\n",
    "    return {'response':response}\n",
    "\n",
    "def neutral_response(state:REVIEW)->REVIEW['response']:\n",
    "    prompt=f\" give it a neutal response  {state['review']}\"\n",
    "    response=model.invoke(prompt).content\n",
    "    return {'response':response}\n",
    "def run_diagnosis(state:REVIEW)->REVIEW['diagnosis']:\n",
    "    prompt = f\"\"\"Diagnose this negative review:\\n\\n{state['review']}\\n\"\n",
    "    \"Return issue_type, tone, and urgency.\n",
    "\"\"\"\n",
    "    response = model2.invoke(prompt)\n",
    "\n",
    "    return {'diagnosis': response.model_dump()}\n",
    "\n",
    "def negative_response(state:REVIEW)->REVIEW['response']:\n",
    "    Diagnosis=state['diagnosis']\n",
    "    prompt=f\"you are a support assistant the user had a {Diagnosis['issue_type']} issue sounded {Diagnosis['tone']} and marked urgency {Diagnosis['urgency']} so write an empathetic helpful resolution message\"\n",
    "    response=model.invoke(prompt).content\n",
    "    return {'response':response}"
   ]
  },
  {
   "cell_type": "code",
   "execution_count": 22,
   "id": "8d191d90",
   "metadata": {},
   "outputs": [
    {
     "data": {
      "text/plain": [
       "<langgraph.graph.state.StateGraph at 0x12819df00>"
      ]
     },
     "execution_count": 22,
     "metadata": {},
     "output_type": "execute_result"
    }
   ],
   "source": [
    "\n",
    "graph = StateGraph(REVIEW)\n",
    "\n",
    "graph.add_node('find_sentiment', Sentiment_find)\n",
    "graph.add_node('positive_response', positive_response)\n",
    "graph.add_node('run_diagnosis', run_diagnosis)\n",
    "graph.add_node('negative_response', negative_response)\n",
    "graph.add_node('neutral_response', neutral_response)\n",
    "\n",
    "graph.add_edge(START, 'find_sentiment')\n",
    "graph.add_conditional_edges(\n",
    "    'find_sentiment',\n",
    "    check_sentiment,\n",
    "    {\n",
    "        \"positive_response\": \"positive_response\",\n",
    "        \"negative_response\": \"run_diagnosis\",\n",
    "        \"neutral_response\": \"neutral_response\"\n",
    "    }\n",
    ")\n",
    "graph.add_edge('run_diagnosis', 'negative_response')\n",
    "graph.add_edge('positive_response', END)\n",
    "graph.add_edge('negative_response', END)\n",
    "graph.add_edge('neutral_response', END)"
   ]
  },
  {
   "cell_type": "code",
   "execution_count": 23,
   "id": "381f0ffa",
   "metadata": {},
   "outputs": [],
   "source": [
    "workflow=graph.compile()"
   ]
  },
  {
   "cell_type": "code",
   "execution_count": 24,
   "id": "5f34f233",
   "metadata": {},
   "outputs": [
    {
     "data": {
      "image/png": "[encoded data removed]",
      "text/plain": [
       "<langgraph.graph.state.CompiledStateGraph object at 0x128498430>"
      ]
     },
     "execution_count": 24,
     "metadata": {},
     "output_type": "execute_result"
    }
   ],
   "source": [
    "workflow"
   ]
  },
  {
   "cell_type": "code",
   "execution_count": 25,
   "id": "d2600b41",
   "metadata": {},
   "outputs": [
    {
     "data": {
      "text/plain": [
       "{'review': 'I am not happy with the product but a bit happy with the services',\n",
       " 'sentiment': 'negative',\n",
       " 'response': 'Subject: Re: Your Recent \"Other\" Issue - We\\'re Here to Help!\\n\\nHi [User\\'s Name, if available, otherwise \"Hello there\"],\\n\\nI understand you\\'ve reported an \"Other\" issue, and it sounds like you\\'re feeling a bit disappointed about it. I\\'m truly sorry to hear that you\\'re having this experience.\\n\\nWhile you\\'ve marked the urgency as low, please know that any issue impacting your experience is important to us, and we want to make sure you\\'re completely satisfied.\\n\\nTo help us understand what\\'s going on and get you the best possible support, could you please tell us a little more about what happened? Any details you can provide – what you were trying to do, what you expected to happen versus what did happen, or any specific observations – would be incredibly helpful.\\n\\nOnce we have a better understanding, we\\'ll be able to investigate thoroughly and work towards a solution for you. We\\'re here to help resolve this for you.\\n\\nPlease reply to this message with more information whenever you\\'re ready.\\n\\nThanks for reaching out, and we look forward to assisting you.\\n\\nBest regards,\\n\\n[Your Name/Support Team Name]\\n[Your Company Name]',\n",
       " 'diagnosis': {'issue_type': 'Other',\n",
       "  'tone': 'disappointed',\n",
       "  'urgency': 'low'}}"
      ]
     },
     "execution_count": 25,
     "metadata": {},
     "output_type": "execute_result"
    }
   ],
   "source": [
    "initial_state = {'review': 'I am not happy with the product but a bit happy with the services'}\n",
    "workflow.invoke(initial_state)"
   ]
  }
 ],
 "metadata": {
  "kernelspec": {
   "display_name": "myenv",
   "language": "python",
   "name": "python3"
  },
  "language_info": {
   "codemirror_mode": {
    "name": "ipython",
    "version": 3
   },
   "file_extension": ".py",
   "mimetype": "text/x-python",
   "name": "python",
   "nbconvert_exporter": "python",
   "pygments_lexer": "ipython3",
   "version": "3.10.18"
  }
 },
 "nbformat": 4,
 "nbformat_minor": 5
}
