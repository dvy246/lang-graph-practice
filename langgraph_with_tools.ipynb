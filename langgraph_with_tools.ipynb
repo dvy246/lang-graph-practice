{
 "cells": [
  {
   "cell_type": "code",
   "execution_count": 1,
   "id": "fc3f9c5a",
   "metadata": {},
   "outputs": [
    {
     "data": {
      "text/plain": [
       "True"
      ]
     },
     "execution_count": 1,
     "metadata": {},
     "output_type": "execute_result"
    }
   ],
   "source": [
    "from langchain_community.tools import TavilySearchResults\n",
    "from langchain_google_genai import ChatGoogleGenerativeAI\n",
    "from langgraph.graph import StateGraph,START,END\n",
    "from langgraph.checkpoint.memory import InMemorySaver\n",
    "from langgraph.graph.message import add_messages\n",
    "from langchain_mistralai import ChatMistralAI\n",
    "from langgraph.prebuilt import ToolNode\n",
    "from langchain_core.messages import BaseMessage,HumanMessage,SystemMessage\n",
    "from uuid import uuid4\n",
    "from typing import TypedDict,Annotated\n",
    "from langgraph.types import Interrupt,Command\n",
    "from langsmith import traceable\n",
    "import os\n",
    "from dotenv import load_dotenv\n",
    "\n",
    "load_dotenv()"
   ]
  },
  {
   "cell_type": "code",
   "execution_count": 2,
   "id": "f42ae2fe",
   "metadata": {},
   "outputs": [],
   "source": [
    "api_keys=[os.getenv('google'),os.getenv('mistral_ai')]"
   ]
  },
  {
   "cell_type": "code",
   "execution_count": 3,
   "id": "7cc82a6a",
   "metadata": {},
   "outputs": [],
   "source": [
    "memory=InMemorySaver()"
   ]
  },
  {
   "cell_type": "code",
   "execution_count": 4,
   "id": "47c4a432",
   "metadata": {},
   "outputs": [
    {
     "name": "stderr",
     "output_type": "stream",
     "text": [
      "/var/folders/kh/4f4bk94j1d36fl9w_7g2nhdm0000gn/T/ipykernel_59105/3676676516.py:1: LangChainDeprecationWarning: The class `TavilySearchResults` was deprecated in LangChain 0.3.25 and will be removed in 1.0. An updated version of the class exists in the :class:`~langchain-tavily package and should be used instead. To use it run `pip install -U :class:`~langchain-tavily` and import as `from :class:`~langchain_tavily import TavilySearch``.\n",
      "  tool=TavilySearchResults(max_results=2,include_answer=True)\n"
     ]
    }
   ],
   "source": [
    "tool=TavilySearchResults(max_results=2,include_answer=True)\n",
    "tools=[tool]"
   ]
  },
  {
   "cell_type": "code",
   "execution_count": 5,
   "id": "9134cdc7",
   "metadata": {},
   "outputs": [],
   "source": [
    "google=ChatGoogleGenerativeAI(api_key=api_keys[0],model='gemini-2.5-flash')"
   ]
  },
  {
   "cell_type": "code",
   "execution_count": 6,
   "id": "9084c9bf",
   "metadata": {},
   "outputs": [],
   "source": [
    "llm_with_tool=google.bind_tools(tools=tools)"
   ]
  },
  {
   "cell_type": "code",
   "execution_count": 7,
   "id": "0417021e",
   "metadata": {},
   "outputs": [],
   "source": [
    "class LLM_TOOL(TypedDict):\n",
    "    message: Annotated[list[BaseMessage],add_messages]\n"
   ]
  },
  {
   "cell_type": "code",
   "execution_count": 8,
   "id": "4cd5b630",
   "metadata": {},
   "outputs": [],
   "source": [
    "graph=StateGraph(LLM_TOOL)"
   ]
  },
  {
   "cell_type": "code",
   "execution_count": 9,
   "id": "31d4ef94",
   "metadata": {},
   "outputs": [],
   "source": [
    "def chatbot(state:LLM_TOOL)->LLM_TOOL['message']:\n",
    "    messages = state['message']\n",
    "    if not messages:\n",
    "        raise ValueError(\"No messages provided\")\n",
    "    return {'message':[llm_with_tool.invoke(messages)]}\n",
    "\n",
    "\n",
    "def router(state:LLM_TOOL):\n",
    "    last_message=state['message'][-1]\n",
    "    if (hasattr(last_message,\"tool_calls\") and len(last_message.tool_calls)>0):\n",
    "        return 'tool'\n",
    "    return 'end'"
   ]
  },
  {
   "cell_type": "code",
   "execution_count": 10,
   "id": "1bb8f5c7",
   "metadata": {},
   "outputs": [],
   "source": [
    "tool_node=ToolNode(tools=tools,messages_key='message')"
   ]
  },
  {
   "cell_type": "code",
   "execution_count": 11,
   "id": "cb06c8d7",
   "metadata": {},
   "outputs": [
    {
     "data": {
      "text/plain": [
       "<langgraph.graph.state.StateGraph at 0x128b91ab0>"
      ]
     },
     "execution_count": 11,
     "metadata": {},
     "output_type": "execute_result"
    }
   ],
   "source": [
    "graph.add_node('chatbot',chatbot)\n",
    "graph.add_node('tool',tool_node)\n",
    "graph.set_entry_point('chatbot')\n",
    "\n",
    "graph.add_conditional_edges('chatbot',router,{'tool':'tool','end':END})\n",
    "graph.add_edge('tool','chatbot')\n"
   ]
  },
  {
   "cell_type": "code",
   "execution_count": 12,
   "id": "6abda8c5",
   "metadata": {},
   "outputs": [
    {
     "data": {
      "image/png": "[encoded data removed]",
      "text/plain": [
       "<langgraph.graph.state.CompiledStateGraph object at 0x128b91690>"
      ]
     },
     "execution_count": 12,
     "metadata": {},
     "output_type": "execute_result"
    }
   ],
   "source": [
    "workflow=graph.compile(checkpointer=memory,interrupt_before=['tool'])\n",
    "workflow"
   ]
  },
  {
   "cell_type": "code",
   "execution_count": 13,
   "id": "db6b58ad",
   "metadata": {},
   "outputs": [],
   "source": [
    "config={\n",
    "    'configurable':{\n",
    "        'thread_id':'1'\n",
    "    }\n",
    "}\n",
    "\n",
    "initial={'message':[\n",
    "    HumanMessage(content='What is the wethear of uk')\n",
    "]}\n",
    "events=workflow.stream(\n",
    "    config=config,input=initial\n",
    ")\n",
    "\n"
   ]
  },
  {
   "cell_type": "code",
   "execution_count": 15,
   "id": "a23167e4",
   "metadata": {},
   "outputs": [],
   "source": [
    "for event in events:\n",
    "  event['message'][-1].pretty_print()"
   ]
  },
  {
   "cell_type": "code",
   "execution_count": null,
   "id": "7df0bcba",
   "metadata": {},
   "outputs": [
    {
     "name": "stdout",
     "output_type": "stream",
     "text": [
      "==================================\u001b[1m Ai Message \u001b[0m==================================\n",
      "Tool Calls:\n",
      "  tavily_search_results_json (269f3447-e85b-4ad9-9f5f-0f337af0a5e0)\n",
      " Call ID: 269f3447-e85b-4ad9-9f5f-0f337af0a5e0\n",
      "  Args:\n",
      "    query: weather in UK\n",
      "=================================\u001b[1m Tool Message \u001b[0m=================================\n",
      "Name: tavily_search_results_json\n",
      "\n",
      "[{\"title\": \"19/08/2025 - Mostly dry - Morning Weather Forecast UK\", \"url\": \"https://www.youtube.com/watch?v=P2rcUeZ29lE\", \"content\": \"19/08/2025 - Mostly dry - Morning Weather Forecast UK – Met Office Weather\\nMet Office - UK Weather\\n357000 subscribers\\n479 likes\\n9190 views\\n19 Aug 2025\\nLow cloud should mostly break up inland, with some lingering along North Sea coasts. A band of thicker cloud with some rain and drizzle with later push from Scotland into northeast England. Cool under the cloud in the east, but warmer in the west. - This is the Met Office UK Weather forecast for the morning of 19/08/2025. Bringing you today’s weather forecast is Alex Deakin.\\n\\nSubscribe to make sure you never miss the latest UK weather forecast or important weather warning - https://www.youtube.com/c/metoffice?sub_confirmation=1\\n\\nWe are the Met Office, the UK’s national weather service, and every day of the week we bring you a morning weather forecast and an afternoon weather forecast so that wherever you are in the UK we have you covered.\\n\\nForecasts and any weather warnings are accurate at time of recording. To ensure you have the most up to date weather information, check the hourly forecast and live warnings on the Met Office website or app.\\n29 comments\\n\", \"score\": 0.98574}, {\"title\": \"England weather forecast for Tuesday, 19 August 2025\", \"url\": \"https://www.weather25.com/europe/united-kingdom?page=date&date=19-8\", \"content\": \"# England weather forecast for Tuesday, 19 August 2025 | Wind Degree | 58° | 45° | 39° | 63° | 87° | 96° | 81° | 37° | ## Check England's weather in other day Click on a day for an hourly weather forecast 77° / 60°Wednesday 75° / 59°Thursday 68° / 57°Friday 73° / 53°Saturday 77° / 57°Sunday 75° / 59°Monday 71° / 60°Tuesday 62° / 59°Wednesday 68° / 59°Thursday 64° / 57°Friday 69° / 55°Saturday 66° / 59°Sunday 64° / 60°Monday 71° / 57° Next   Cities in England Tuesday, 19 August 2025 ## Sunrise and sunset time in England in Tuesday, 19 August 2025 What time is the sunset and sunrise in England?\", \"score\": 0.98572}]\n",
      "==================================\u001b[1m Ai Message \u001b[0m==================================\n",
      "\n",
      "The weather in the UK for August 19, 2025, is expected to be mostly dry. Low clouds should largely dissipate inland but may persist along North Sea coasts. A band of thicker cloud with some rain and drizzle is predicted to move from Scotland into northeast England. Temperatures will be cooler in the east and warmer in the west.\n"
     ]
    }
   ],
   "source": [
    "events = workflow.stream(None, config, stream_mode=\"values\")\n",
    "for event in events:\n",
    "    event[\"message\"][-1].pretty_print()"
   ]
  },
  {
   "cell_type": "code",
   "execution_count": null,
   "id": "1fea79ba",
   "metadata": {},
   "outputs": [],
   "source": []
  }
 ],
 "metadata": {
  "kernelspec": {
   "display_name": "myenv",
   "language": "python",
   "name": "python3"
  },
  "language_info": {
   "codemirror_mode": {
    "name": "ipython",
    "version": 3
   },
   "file_extension": ".py",
   "mimetype": "text/x-python",
   "name": "python",
   "nbconvert_exporter": "python",
   "pygments_lexer": "ipython3",
   "version": "3.10.18"
  }
 },
 "nbformat": 4,
 "nbformat_minor": 5
}
