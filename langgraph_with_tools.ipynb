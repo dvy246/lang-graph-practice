{
 "cells": [
  {
   "cell_type": "code",
   "execution_count": 1,
   "id": "fc3f9c5a",
   "metadata": {},
   "outputs": [
    {
     "data": {
      "text/plain": [
       "True"
      ]
     },
     "execution_count": 1,
     "metadata": {},
     "output_type": "execute_result"
    }
   ],
   "source": [
    "from langchain_community.tools import TavilySearchResults\n",
    "from langchain_google_genai import ChatGoogleGenerativeAI\n",
    "from langgraph.graph import StateGraph,START,END\n",
    "from langgraph.checkpoint.memory import InMemorySaver\n",
    "from langgraph.graph.message import add_messages\n",
    "from langchain_mistralai import ChatMistralAI\n",
    "from langgraph.prebuilt import ToolNode\n",
    "from langchain_core.messages import BaseMessage,HumanMessage,SystemMessage\n",
    "from uuid import uuid4\n",
    "from typing import TypedDict,Annotated\n",
    "from langsmith import traceable\n",
    "import os\n",
    "from dotenv import load_dotenv\n",
    "\n",
    "load_dotenv()"
   ]
  },
  {
   "cell_type": "code",
   "execution_count": 2,
   "id": "f42ae2fe",
   "metadata": {},
   "outputs": [],
   "source": [
    "api_keys=[os.getenv('google'),os.getenv('mistral_ai')]"
   ]
  },
  {
   "cell_type": "code",
   "execution_count": 3,
   "id": "7cc82a6a",
   "metadata": {},
   "outputs": [],
   "source": [
    "memory=InMemorySaver()"
   ]
  },
  {
   "cell_type": "code",
   "execution_count": 4,
   "id": "47c4a432",
   "metadata": {},
   "outputs": [
    {
     "name": "stderr",
     "output_type": "stream",
     "text": [
      "/var/folders/kh/4f4bk94j1d36fl9w_7g2nhdm0000gn/T/ipykernel_42683/3676676516.py:1: LangChainDeprecationWarning: The class `TavilySearchResults` was deprecated in LangChain 0.3.25 and will be removed in 1.0. An updated version of the class exists in the :class:`~langchain-tavily package and should be used instead. To use it run `pip install -U :class:`~langchain-tavily` and import as `from :class:`~langchain_tavily import TavilySearch``.\n",
      "  tool=TavilySearchResults(max_results=2,include_answer=True)\n"
     ]
    }
   ],
   "source": [
    "tool=TavilySearchResults(max_results=2,include_answer=True)\n",
    "tools=[tool]"
   ]
  },
  {
   "cell_type": "code",
   "execution_count": 5,
   "id": "9134cdc7",
   "metadata": {},
   "outputs": [],
   "source": [
    "google=ChatGoogleGenerativeAI(api_key=api_keys[0],model='gemini-2.5-flash')"
   ]
  },
  {
   "cell_type": "code",
   "execution_count": 6,
   "id": "9084c9bf",
   "metadata": {},
   "outputs": [
    {
     "name": "stderr",
     "output_type": "stream",
     "text": [
      "convert_to_genai_function_declarations expects a Sequence and not a single tool.\n"
     ]
    }
   ],
   "source": [
    "llm_with_tool=google.bind_tools(tools=tool)"
   ]
  },
  {
   "cell_type": "code",
   "execution_count": 7,
   "id": "0417021e",
   "metadata": {},
   "outputs": [],
   "source": [
    "class LLM_TOOL(TypedDict):\n",
    "    message: Annotated[list[BaseMessage],add_messages]\n"
   ]
  },
  {
   "cell_type": "code",
   "execution_count": 8,
   "id": "4cd5b630",
   "metadata": {},
   "outputs": [],
   "source": [
    "graph=StateGraph(LLM_TOOL)"
   ]
  },
  {
   "cell_type": "code",
   "execution_count": 9,
   "id": "31d4ef94",
   "metadata": {},
   "outputs": [],
   "source": [
    "def chatbot(state:LLM_TOOL)->LLM_TOOL['message']:\n",
    "    return {'message':[llm_with_tool.invoke(state['message'])]}\n",
    "\n",
    "def router(state:LLM_TOOL):\n",
    "    last_message=state['message'][-1]\n",
    "    if (hasattr(last_message,\"tool_calls\") and len(last_message.tool_calls)>0):\n",
    "        return 'tool'\n",
    "    return 'end'"
   ]
  },
  {
   "cell_type": "code",
   "execution_count": 10,
   "id": "1bb8f5c7",
   "metadata": {},
   "outputs": [],
   "source": [
    "tool_node=ToolNode(tools=tools,messages_key='message')"
   ]
  },
  {
   "cell_type": "code",
   "execution_count": 11,
   "id": "cb06c8d7",
   "metadata": {},
   "outputs": [
    {
     "data": {
      "text/plain": [
       "<langgraph.graph.state.StateGraph at 0x10d461ba0>"
      ]
     },
     "execution_count": 11,
     "metadata": {},
     "output_type": "execute_result"
    }
   ],
   "source": [
    "graph.add_node('chatbot',chatbot)\n",
    "graph.add_node('tool',tool_node)\n",
    "graph.set_entry_point('chatbot')\n",
    "\n",
    "graph.add_conditional_edges('chatbot',router,{'tool':'tool','end':END})\n",
    "graph.add_edge('tool','chatbot')\n"
   ]
  },
  {
   "cell_type": "code",
   "execution_count": 12,
   "id": "6abda8c5",
   "metadata": {},
   "outputs": [
    {
     "data": {
      "image/png": "[encoded data removed]",
      "text/plain": [
       "<langgraph.graph.state.CompiledStateGraph object at 0x10d462d10>"
      ]
     },
     "execution_count": 12,
     "metadata": {},
     "output_type": "execute_result"
    }
   ],
   "source": [
    "workflow=graph.compile(checkpointer=memory)\n",
    "workflow"
   ]
  },
  {
   "cell_type": "code",
   "execution_count": 15,
   "id": "0b7c3d10",
   "metadata": {},
   "outputs": [
    {
     "name": "stdout",
     "output_type": "stream",
     "text": [
      "AI Hello! How can I help you today?\n",
      "AI Nice to meet you, Divy! How can I assist you today?\n",
      "AI Your name is Divy.\n",
      "AI As an AI, I don't have feelings or a physical state, so I can't be \"good\" or \"bad\" in the way a human can. I'm here and ready to help you! How can I assist you today, Divy?\n",
      "AI For a 20-year-old student aiming to become a millionaire, a top skill to develop is **copywriting and content strategy**.\n",
      "\n",
      "This involves creating compelling written and visual content that can be used for marketing, sales, and building an online presence. In today's digital world, businesses and individuals constantly need engaging content, making this a highly valuable and in-demand skill.\n",
      "AI That's a very insightful question, and it's true that AI is making significant strides in content generation. However, here's why copywriting, even with AI, remains a crucial and high-income skill:\n",
      "\n",
      "1.  **Strategic Nuance and Human Empathy:** AI can generate text, but it often lacks the deep understanding of human psychology, emotional nuance, and strategic thinking that a skilled copywriter possesses. A human copywriter can truly understand a target audience's desires, pain points, and motivations, crafting messages that resonate deeply and persuade effectively. AI struggles with genuine empathy and the subtle art of persuasion.\n",
      "\n",
      "2.  **Brand Voice and Consistency:** Every successful brand has a unique voice and personality. A human copywriter can internalize this voice and ensure every piece of content consistently reflects it, building trust and recognition. While AI can be trained on a brand's voice, it often requires human oversight and refinement to maintain true authenticity.\n",
      "\n",
      "3.  **Creativity and Originality:** While AI can generate variations and ideas, truly original, groundbreaking, and viral creative concepts often stem from human ingenuity. Copywriters can think outside the box, develop unique angles, and create campaigns that capture attention in a crowded market. AI is excellent at pattern recognition and generation, but less so at true innovation.\n",
      "\n",
      "4.  **Refinement and Ethical Considerations:** AI-generated content often requires significant human editing and refinement to ensure accuracy, factual correctness, and adherence to ethical guidelines and legal requirements. A human copywriter acts as the final arbiter, ensuring the content is not only compelling but also responsible and compliant.\n",
      "\n",
      "5.  **Leveraging AI as a Tool:** Instead of replacing copywriters, AI is becoming a powerful *tool* for them. Copywriters can use AI to research, brainstorm ideas, generate first drafts, and optimize content. This allows them to be more productive and focus on the higher-level strategic and creative aspects of their work, making their skills even more valuable.\n",
      "\n",
      "In short, AI can handle the \"what,\" but a human copywriter still brings the \"why\" and the \"how\" – the strategic intent, emotional connection, and creative spark that truly drives results. It's about combining human creativity with AI efficiency.\n"
     ]
    }
   ],
   "source": [
    "while True:\n",
    "    input_user=input('user:')\n",
    "    config={'configurable':{'thread_id':'thread-1'}}\n",
    "    if any( i in input_user for i in ['exit','quit','bye']):\n",
    "        break\n",
    "    else:\n",
    "        response=workflow.invoke({'message':[HumanMessage(content=input_user)]},config=config)\n",
    "        print('AI',response['message'][-1].content)"
   ]
  }
 ],
 "metadata": {
  "kernelspec": {
   "display_name": "myenv",
   "language": "python",
   "name": "python3"
  },
  "language_info": {
   "codemirror_mode": {
    "name": "ipython",
    "version": 3
   },
   "file_extension": ".py",
   "mimetype": "text/x-python",
   "name": "python",
   "nbconvert_exporter": "python",
   "pygments_lexer": "ipython3",
   "version": "3.10.18"
  }
 },
 "nbformat": 4,
 "nbformat_minor": 5
}
