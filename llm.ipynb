{
 "cells": [
  {
   "cell_type": "code",
   "execution_count": 3,
   "id": "873a8fc3",
   "metadata": {},
   "outputs": [
    {
     "data": {
      "text/plain": [
       "True"
      ]
     },
     "execution_count": 3,
     "metadata": {},
     "output_type": "execute_result"
    }
   ],
   "source": [
    "from langgraph.graph import StateGraph,START,END\n",
    "from langchain_mistralai import ChatMistralAI\n",
    "from typing import TypedDict\n",
    "from dotenv import load_dotenv\n",
    "import os\n",
    "\n",
    "load_dotenv()"
   ]
  },
  {
   "cell_type": "code",
   "execution_count": 4,
   "id": "303b731a",
   "metadata": {},
   "outputs": [],
   "source": [
    "#state\n",
    "class LLM(TypedDict):\n",
    "\n",
    "    question:str\n",
    "    answer:str"
   ]
  },
  {
   "cell_type": "code",
   "execution_count": 5,
   "id": "ae6ab075",
   "metadata": {},
   "outputs": [],
   "source": [
    "llm=ChatMistralAI(api_key=os.getenv(\"mistral_ai\"))"
   ]
  },
  {
   "cell_type": "code",
   "execution_count": 6,
   "id": "5fa36332",
   "metadata": {},
   "outputs": [],
   "source": [
    "#make nodes and then edges to connect them after defining ur graph\n",
    " \n",
    "graph=StateGraph(LLM)"
   ]
  },
  {
   "cell_type": "code",
   "execution_count": 7,
   "id": "02830366",
   "metadata": {},
   "outputs": [],
   "source": [
    "def llm_qa(state:LLM)->LLM:\n",
    "    question=state['question']\n",
    "    prompt=f\"answer the following {question}\"\n",
    "    response=llm.invoke(prompt).content\n",
    "    state['answer']=response\n",
    "    return state"
   ]
  },
  {
   "cell_type": "code",
   "execution_count": 8,
   "id": "b165d158",
   "metadata": {},
   "outputs": [],
   "source": [
    "graph.add_node(\"LLM_ll\",llm_qa)\n",
    "\n",
    "graph.add_edge(START,\"LLM_ll\")\n",
    "graph.add_edge(\"LLM_ll\",END)\n",
    "\n",
    "workflow=graph.compile()\n"
   ]
  },
  {
   "cell_type": "code",
   "execution_count": 9,
   "id": "a1b64abf",
   "metadata": {},
   "outputs": [
    {
     "data": {
      "text/plain": [
       "{'question': 'what is the capital of India?',\n",
       " 'answer': 'The capital of India is actually divided into two cities: New Delhi (the administrative capital) and Mumbai (the financial capital), although New Delhi is more commonly referred to as the capital. It is located in the northern part of the country and has been the capital since 1911, when it was moved from Calcutta. New Delhi is known for its rich history, diverse culture, and many landmarks, including the Red Fort, India Gate, and the Parliament House.'}"
      ]
     },
     "execution_count": 9,
     "metadata": {},
     "output_type": "execute_result"
    }
   ],
   "source": [
    "initial_state={\"question\":\"what is the capital of India?\"}\n",
    "\n",
    "workflow.invoke(initial_state)"
   ]
  },
  {
   "cell_type": "code",
   "execution_count": 10,
   "id": "ac4102e9",
   "metadata": {},
   "outputs": [
    {
     "data": {
      "image/png": "[encoded data removed]",
      "text/plain": [
       "<IPython.core.display.Image object>"
      ]
     },
     "execution_count": 10,
     "metadata": {},
     "output_type": "execute_result"
    }
   ],
   "source": [
    "from IPython.display import Image\n",
    "\n",
    "Image(workflow.get_graph().draw_mermaid_png())"
   ]
  },
  {
   "cell_type": "code",
   "execution_count": null,
   "id": "b9b80e4d",
   "metadata": {},
   "outputs": [],
   "source": []
  }
 ],
 "metadata": {
  "kernelspec": {
   "display_name": "myenv",
   "language": "python",
   "name": "python3"
  },
  "language_info": {
   "codemirror_mode": {
    "name": "ipython",
    "version": 3
   },
   "file_extension": ".py",
   "mimetype": "text/x-python",
   "name": "python",
   "nbconvert_exporter": "python",
   "pygments_lexer": "ipython3",
   "version": "3.10.18"
  }
 },
 "nbformat": 4,
 "nbformat_minor": 5
}
