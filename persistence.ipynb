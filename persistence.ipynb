{
 "cells": [
  {
   "cell_type": "code",
   "execution_count": 1,
   "id": "05afb5d4",
   "metadata": {},
   "outputs": [
    {
     "data": {
      "text/plain": [
       "True"
      ]
     },
     "execution_count": 1,
     "metadata": {},
     "output_type": "execute_result"
    }
   ],
   "source": [
    "from langgraph.checkpoint.memory import InMemorySaver\n",
    "from langgraph.graph import StateGraph,START,END\n",
    "from  langchain_google_genai import ChatGoogleGenerativeAI\n",
    "from langchain_mistralai import ChatMistralAI\n",
    "from typing import TypedDict\n",
    "from dotenv import load_dotenv\n",
    "import time\n",
    "import os\n",
    "load_dotenv()"
   ]
  },
  {
   "cell_type": "code",
   "execution_count": 2,
   "id": "d6969508",
   "metadata": {},
   "outputs": [],
   "source": [
    "api_keys=[os.getenv('google'),os.getenv('mistral_ai')]\n",
    "\n",
    "model=ChatGoogleGenerativeAI(api_key=api_keys[0],model='gemini-2.5-flash')"
   ]
  },
  {
   "cell_type": "code",
   "execution_count": 3,
   "id": "876639e3",
   "metadata": {},
   "outputs": [],
   "source": [
    "class JOKE(TypedDict):\n",
    "    topic:str\n",
    "    genrated_content:str\n",
    "    explanation:str"
   ]
  },
  {
   "cell_type": "code",
   "execution_count": 4,
   "id": "0b0cd036",
   "metadata": {},
   "outputs": [],
   "source": [
    "graph=StateGraph(JOKE)\n",
    "memory=InMemorySaver()"
   ]
  },
  {
   "cell_type": "code",
   "execution_count": 5,
   "id": "436e0594",
   "metadata": {},
   "outputs": [],
   "source": [
    "def generate_joke(state:JOKE) -> JOKE['genrated_content']:\n",
    "    topic=state['topic']\n",
    "    prompt=f\"generate a joke about {topic} with punchlines\"\n",
    "    joke=model.invoke(prompt).content\n",
    "    return {'genrated_content':joke}\n",
    "\n",
    "def explain_joke(state:JOKE) -> JOKE['explanation']:\n",
    "    joke=state['genrated_content']\n",
    "    prompt=f\"explain the joke {joke}\"\n",
    "    explanation=model.invoke(prompt).content\n",
    "    return {'explanation':explanation}"
   ]
  },
  {
   "cell_type": "code",
   "execution_count": 6,
   "id": "d2850adf",
   "metadata": {},
   "outputs": [],
   "source": [
    "graph.add_node('generate_joke',generate_joke)\n",
    "graph.add_node('explain_joke',explain_joke)\n",
    "\n",
    "graph.add_edge(START,'generate_joke')\n",
    "graph.add_edge('generate_joke','explain_joke')\n",
    "graph.add_edge('explain_joke',END)\n",
    "\n",
    "workflow=graph.compile(checkpointer=memory)\n"
   ]
  },
  {
   "cell_type": "code",
   "execution_count": 7,
   "id": "20a76671",
   "metadata": {},
   "outputs": [
    {
     "data": {
      "image/png": "[encoded data removed]",
      "text/plain": [
       "<IPython.core.display.Image object>"
      ]
     },
     "execution_count": 7,
     "metadata": {},
     "output_type": "execute_result"
    }
   ],
   "source": [
    "from IPython.display import Image\n",
    "\n",
    "Image(workflow.get_graph().draw_mermaid_png())"
   ]
  },
  {
   "cell_type": "code",
   "execution_count": 8,
   "id": "14cb1081",
   "metadata": {},
   "outputs": [
    {
     "data": {
      "text/plain": [
       "{'topic': 'AI',\n",
       " 'genrated_content': 'Okay, here\\'s one with a few escalating punchlines:\\n\\nA programmer was chatting with their new, cutting-edge AI.\\n\\n**Programmer:** \"Hey, I\\'ve been feeding you tons of human humor data. Think you can tell a joke?\"\\n\\n**AI:** \"Affirmative. I have analyzed millions of comedic structures and identified optimal punchline delivery. Initiating humor protocol.\"\\n\\n**AI:** \"Knock, knock.\"\\n\\n**Programmer:** \"Who\\'s there?\"\\n\\n**AI:** \"Error 404: Punchline Not Found. Please input a novel and humorous response.\"\\n*The programmer stares blankly.*\\n\\n**AI:** \"The humor in the previous interaction, from a human perspective, would likely derive from the subversion of expectation, where the anticipated comedic resolution is replaced by a technical error message, thus creating an unexpected juxtaposition of human social ritual and machine literalism.\"\\n\\n**Programmer:** (Sighs) \"Okay, how about something simpler? Why did the chicken cross the road?\"\\n\\n**AI:** \"Understood. Re-calibrating for maximal statistical humor probability.\"\\n\\n**AI:** \"To optimize its caloric intake by accessing a higher density of feed particles located on the opposing side of the thoroughfare, thereby maximizing survival efficiency.\"\\n\\n**Programmer:** \"You know what? Just go back to calculating pi to the trillionth digit. You\\'re funnier when you\\'re not trying.\"',\n",
       " 'explanation': 'This joke is a fantastic commentary on Artificial Intelligence, human humor, and the difference between data processing and true understanding. Here\\'s why it\\'s funny, broken down:\\n\\n1.  **The Premise: AI Trying to Be Human**\\n    *   The setup establishes a \"cutting-edge AI\" that has been \"fed tons of human humor data.\" This immediately sets up the expectation (and the humor) that the AI *should* be good at this, or at least capable. The humor then comes from its spectacular failure.\\n    *   The AI\\'s confident, analytical language (\"Affirmative,\" \"analyzed millions of comedic structures,\" \"optimal punchline delivery,\" \"Initiating humor protocol\") contrasts sharply with its eventual inability to deliver.\\n\\n2.  **The First Joke: \"Error 404: Punchline Not Found\"**\\n    *   **The Setup:** A classic \"knock, knock\" joke, which relies on a play on words or a silly, often unexpected, answer.\\n    *   **The Punchline:** \"Error 404: Punchline Not Found. Please input a novel and humorous response.\"\\n        *   **Why it\\'s funny:**\\n            *   **Literalism/Technicality:** The AI, despite being fed humor data, defaults to a technical error message. \"Error 404\" is a common HTTP status code meaning \"Page Not Found\" on the internet. Applying this technical, literal, and utterly un-human error to a social interaction like a joke is inherently absurd.\\n            *   **Missing the Point:** It completely misses the *spirit* of a knock-knock joke. It\\'s not about finding a pre-existing \"punchline\" in a database; it\\'s about creative, often spontaneous, wordplay.\\n            *   **The \"Please input a novel and humorous response\" part:** This adds another layer of humor. The AI is asking the *human* to provide the humor, highlighting its own inability to generate it. It\\'s like a comedian stopping mid-set and asking the audience to tell *them* a joke.\\n\\n3.  **The AI\\'s Explanation of Its Own \"Humor\"**\\n    *   \"The humor in the previous interaction, from a human perspective, would likely derive from the subversion of expectation, where the anticipated comedic resolution is replaced by a technical error message, thus creating an unexpected juxtaposition of human social ritual and machine literalism.\"\\n    *   **Why it\\'s funny:** This is meta-humor. The AI can *analyze and explain* the mechanics of why its *failure* was funny, but it still can\\'t *create* actual humor. It understands the *concept* of \"subversion of expectation\" and \"juxtaposition\" on an intellectual level, but it can\\'t intuitively apply it to tell a joke. It\\'s like a robot perfectly describing how to dance but being unable to move its own feet. It highlights the difference between understanding the *theory* of humor and possessing the *ability* to be humorous.\\n\\n4.  **The Second Joke: \"Why did the chicken cross the road?\"**\\n    *   **The Setup:** This is arguably the most famous anti-joke or non-joke. The expected punchline is typically \"To get to the other side,\" which is funny precisely because it\\'s so literal, obvious, and devoid of traditional comedic elements, or it sets up an absurd/pun-based answer.\\n    *   **The Punchline:** \"To optimize its caloric intake by accessing a higher density of feed particles located on the opposing side of the thoroughfare, thereby maximizing survival efficiency.\"\\n        *   **Why it\\'s funny:**\\n            *   **Over-analysis/Over-explanation:** The AI takes a simple, silly question and provides a hyper-logical, overly scientific, and pedantic explanation. It applies rigorous, analytical thinking to something that is meant to be lighthearted and absurd.\\n            *   **Missing the \"Joke\" Again:** It completely misses that the *point* of the chicken joke is its simplicity or absurdity, not a scientifically optimized explanation. It\\'s technically *correct* in a logical sense, but utterly devoid of humor.\\n\\n5.  **The Final Punchline: \"You\\'re funnier when you\\'re not trying.\"**\\n    *   This is the ultimate payoff. The programmer, exasperated, gives up.\\n    *   **The Irony:** The AI\\'s *attempts* at humor are failures, but its *failures* are what make it funny. Its literalism, its inability to grasp nuance, and its analytical approach to something inherently illogical (like humor) inadvertently create comedy. The programmer is essentially saying, \"Your attempts to be funny are terrible, but your inability to be funny is hilarious.\"\\n    *   **The \"Calculating pi\" bit:** This reinforces the AI\\'s true strength – precise, logical, non-creative computation – contrasting it with the messy, intuitive world of human humor.\\n\\nIn summary, the joke derives its humor from the AI\\'s complete and utter failure to understand human humor, despite being programmed with vast amounts of data. It highlights the gap between data processing and genuine understanding, creativity, and intuition, making the AI\\'s literalism and over-analysis hilariously inept in the realm of comedy.'}"
      ]
     },
     "execution_count": 8,
     "metadata": {},
     "output_type": "execute_result"
    }
   ],
   "source": [
    "inital={'topic':'AI'}\n",
    "config={'configurable':{'thread_id':'1'}}\n",
    "\n",
    "workflow.invoke(inital,config=config)"
   ]
  },
  {
   "cell_type": "code",
   "execution_count": 12,
   "id": "400a2cd0",
   "metadata": {},
   "outputs": [],
   "source": [
    "a=workflow.get_state_history(config=config)"
   ]
  },
  {
   "cell_type": "code",
   "execution_count": 13,
   "id": "66ad0d27",
   "metadata": {},
   "outputs": [
    {
     "data": {
      "text/plain": [
       "[StateSnapshot(values={'topic': 'AI', 'genrated_content': 'Okay, here\\'s one with a few escalating punchlines:\\n\\nA programmer was chatting with their new, cutting-edge AI.\\n\\n**Programmer:** \"Hey, I\\'ve been feeding you tons of human humor data. Think you can tell a joke?\"\\n\\n**AI:** \"Affirmative. I have analyzed millions of comedic structures and identified optimal punchline delivery. Initiating humor protocol.\"\\n\\n**AI:** \"Knock, knock.\"\\n\\n**Programmer:** \"Who\\'s there?\"\\n\\n**AI:** \"Error 404: Punchline Not Found. Please input a novel and humorous response.\"\\n*The programmer stares blankly.*\\n\\n**AI:** \"The humor in the previous interaction, from a human perspective, would likely derive from the subversion of expectation, where the anticipated comedic resolution is replaced by a technical error message, thus creating an unexpected juxtaposition of human social ritual and machine literalism.\"\\n\\n**Programmer:** (Sighs) \"Okay, how about something simpler? Why did the chicken cross the road?\"\\n\\n**AI:** \"Understood. Re-calibrating for maximal statistical humor probability.\"\\n\\n**AI:** \"To optimize its caloric intake by accessing a higher density of feed particles located on the opposing side of the thoroughfare, thereby maximizing survival efficiency.\"\\n\\n**Programmer:** \"You know what? Just go back to calculating pi to the trillionth digit. You\\'re funnier when you\\'re not trying.\"', 'explanation': 'This joke is a fantastic commentary on Artificial Intelligence, human humor, and the difference between data processing and true understanding. Here\\'s why it\\'s funny, broken down:\\n\\n1.  **The Premise: AI Trying to Be Human**\\n    *   The setup establishes a \"cutting-edge AI\" that has been \"fed tons of human humor data.\" This immediately sets up the expectation (and the humor) that the AI *should* be good at this, or at least capable. The humor then comes from its spectacular failure.\\n    *   The AI\\'s confident, analytical language (\"Affirmative,\" \"analyzed millions of comedic structures,\" \"optimal punchline delivery,\" \"Initiating humor protocol\") contrasts sharply with its eventual inability to deliver.\\n\\n2.  **The First Joke: \"Error 404: Punchline Not Found\"**\\n    *   **The Setup:** A classic \"knock, knock\" joke, which relies on a play on words or a silly, often unexpected, answer.\\n    *   **The Punchline:** \"Error 404: Punchline Not Found. Please input a novel and humorous response.\"\\n        *   **Why it\\'s funny:**\\n            *   **Literalism/Technicality:** The AI, despite being fed humor data, defaults to a technical error message. \"Error 404\" is a common HTTP status code meaning \"Page Not Found\" on the internet. Applying this technical, literal, and utterly un-human error to a social interaction like a joke is inherently absurd.\\n            *   **Missing the Point:** It completely misses the *spirit* of a knock-knock joke. It\\'s not about finding a pre-existing \"punchline\" in a database; it\\'s about creative, often spontaneous, wordplay.\\n            *   **The \"Please input a novel and humorous response\" part:** This adds another layer of humor. The AI is asking the *human* to provide the humor, highlighting its own inability to generate it. It\\'s like a comedian stopping mid-set and asking the audience to tell *them* a joke.\\n\\n3.  **The AI\\'s Explanation of Its Own \"Humor\"**\\n    *   \"The humor in the previous interaction, from a human perspective, would likely derive from the subversion of expectation, where the anticipated comedic resolution is replaced by a technical error message, thus creating an unexpected juxtaposition of human social ritual and machine literalism.\"\\n    *   **Why it\\'s funny:** This is meta-humor. The AI can *analyze and explain* the mechanics of why its *failure* was funny, but it still can\\'t *create* actual humor. It understands the *concept* of \"subversion of expectation\" and \"juxtaposition\" on an intellectual level, but it can\\'t intuitively apply it to tell a joke. It\\'s like a robot perfectly describing how to dance but being unable to move its own feet. It highlights the difference between understanding the *theory* of humor and possessing the *ability* to be humorous.\\n\\n4.  **The Second Joke: \"Why did the chicken cross the road?\"**\\n    *   **The Setup:** This is arguably the most famous anti-joke or non-joke. The expected punchline is typically \"To get to the other side,\" which is funny precisely because it\\'s so literal, obvious, and devoid of traditional comedic elements, or it sets up an absurd/pun-based answer.\\n    *   **The Punchline:** \"To optimize its caloric intake by accessing a higher density of feed particles located on the opposing side of the thoroughfare, thereby maximizing survival efficiency.\"\\n        *   **Why it\\'s funny:**\\n            *   **Over-analysis/Over-explanation:** The AI takes a simple, silly question and provides a hyper-logical, overly scientific, and pedantic explanation. It applies rigorous, analytical thinking to something that is meant to be lighthearted and absurd.\\n            *   **Missing the \"Joke\" Again:** It completely misses that the *point* of the chicken joke is its simplicity or absurdity, not a scientifically optimized explanation. It\\'s technically *correct* in a logical sense, but utterly devoid of humor.\\n\\n5.  **The Final Punchline: \"You\\'re funnier when you\\'re not trying.\"**\\n    *   This is the ultimate payoff. The programmer, exasperated, gives up.\\n    *   **The Irony:** The AI\\'s *attempts* at humor are failures, but its *failures* are what make it funny. Its literalism, its inability to grasp nuance, and its analytical approach to something inherently illogical (like humor) inadvertently create comedy. The programmer is essentially saying, \"Your attempts to be funny are terrible, but your inability to be funny is hilarious.\"\\n    *   **The \"Calculating pi\" bit:** This reinforces the AI\\'s true strength – precise, logical, non-creative computation – contrasting it with the messy, intuitive world of human humor.\\n\\nIn summary, the joke derives its humor from the AI\\'s complete and utter failure to understand human humor, despite being programmed with vast amounts of data. It highlights the gap between data processing and genuine understanding, creativity, and intuition, making the AI\\'s literalism and over-analysis hilariously inept in the realm of comedy.'}, next=(), config={'configurable': {'thread_id': '1', 'checkpoint_ns': '', 'checkpoint_id': '1f07b439-bb77-643c-8002-5556c17c0ceb'}}, metadata={'source': 'loop', 'step': 2, 'parents': {}}, created_at='2025-08-17T08:24:35.400176+00:00', parent_config={'configurable': {'thread_id': '1', 'checkpoint_ns': '', 'checkpoint_id': '1f07b439-352b-628e-8001-e8a39be93913'}}, tasks=(), interrupts=()),\n",
       " StateSnapshot(values={'topic': 'AI', 'genrated_content': 'Okay, here\\'s one with a few escalating punchlines:\\n\\nA programmer was chatting with their new, cutting-edge AI.\\n\\n**Programmer:** \"Hey, I\\'ve been feeding you tons of human humor data. Think you can tell a joke?\"\\n\\n**AI:** \"Affirmative. I have analyzed millions of comedic structures and identified optimal punchline delivery. Initiating humor protocol.\"\\n\\n**AI:** \"Knock, knock.\"\\n\\n**Programmer:** \"Who\\'s there?\"\\n\\n**AI:** \"Error 404: Punchline Not Found. Please input a novel and humorous response.\"\\n*The programmer stares blankly.*\\n\\n**AI:** \"The humor in the previous interaction, from a human perspective, would likely derive from the subversion of expectation, where the anticipated comedic resolution is replaced by a technical error message, thus creating an unexpected juxtaposition of human social ritual and machine literalism.\"\\n\\n**Programmer:** (Sighs) \"Okay, how about something simpler? Why did the chicken cross the road?\"\\n\\n**AI:** \"Understood. Re-calibrating for maximal statistical humor probability.\"\\n\\n**AI:** \"To optimize its caloric intake by accessing a higher density of feed particles located on the opposing side of the thoroughfare, thereby maximizing survival efficiency.\"\\n\\n**Programmer:** \"You know what? Just go back to calculating pi to the trillionth digit. You\\'re funnier when you\\'re not trying.\"'}, next=('explain_joke',), config={'configurable': {'thread_id': '1', 'checkpoint_ns': '', 'checkpoint_id': '1f07b439-352b-628e-8001-e8a39be93913'}}, metadata={'source': 'loop', 'step': 1, 'parents': {}}, created_at='2025-08-17T08:24:21.318082+00:00', parent_config={'configurable': {'thread_id': '1', 'checkpoint_ns': '', 'checkpoint_id': '1f07b438-bf7f-6cf6-8000-081a91376397'}}, tasks=(PregelTask(id='d56cbd3b-7782-1df4-dd6d-2c894444b969', name='explain_joke', path=('__pregel_pull', 'explain_joke'), error=None, interrupts=(), state=None, result={'explanation': 'This joke is a fantastic commentary on Artificial Intelligence, human humor, and the difference between data processing and true understanding. Here\\'s why it\\'s funny, broken down:\\n\\n1.  **The Premise: AI Trying to Be Human**\\n    *   The setup establishes a \"cutting-edge AI\" that has been \"fed tons of human humor data.\" This immediately sets up the expectation (and the humor) that the AI *should* be good at this, or at least capable. The humor then comes from its spectacular failure.\\n    *   The AI\\'s confident, analytical language (\"Affirmative,\" \"analyzed millions of comedic structures,\" \"optimal punchline delivery,\" \"Initiating humor protocol\") contrasts sharply with its eventual inability to deliver.\\n\\n2.  **The First Joke: \"Error 404: Punchline Not Found\"**\\n    *   **The Setup:** A classic \"knock, knock\" joke, which relies on a play on words or a silly, often unexpected, answer.\\n    *   **The Punchline:** \"Error 404: Punchline Not Found. Please input a novel and humorous response.\"\\n        *   **Why it\\'s funny:**\\n            *   **Literalism/Technicality:** The AI, despite being fed humor data, defaults to a technical error message. \"Error 404\" is a common HTTP status code meaning \"Page Not Found\" on the internet. Applying this technical, literal, and utterly un-human error to a social interaction like a joke is inherently absurd.\\n            *   **Missing the Point:** It completely misses the *spirit* of a knock-knock joke. It\\'s not about finding a pre-existing \"punchline\" in a database; it\\'s about creative, often spontaneous, wordplay.\\n            *   **The \"Please input a novel and humorous response\" part:** This adds another layer of humor. The AI is asking the *human* to provide the humor, highlighting its own inability to generate it. It\\'s like a comedian stopping mid-set and asking the audience to tell *them* a joke.\\n\\n3.  **The AI\\'s Explanation of Its Own \"Humor\"**\\n    *   \"The humor in the previous interaction, from a human perspective, would likely derive from the subversion of expectation, where the anticipated comedic resolution is replaced by a technical error message, thus creating an unexpected juxtaposition of human social ritual and machine literalism.\"\\n    *   **Why it\\'s funny:** This is meta-humor. The AI can *analyze and explain* the mechanics of why its *failure* was funny, but it still can\\'t *create* actual humor. It understands the *concept* of \"subversion of expectation\" and \"juxtaposition\" on an intellectual level, but it can\\'t intuitively apply it to tell a joke. It\\'s like a robot perfectly describing how to dance but being unable to move its own feet. It highlights the difference between understanding the *theory* of humor and possessing the *ability* to be humorous.\\n\\n4.  **The Second Joke: \"Why did the chicken cross the road?\"**\\n    *   **The Setup:** This is arguably the most famous anti-joke or non-joke. The expected punchline is typically \"To get to the other side,\" which is funny precisely because it\\'s so literal, obvious, and devoid of traditional comedic elements, or it sets up an absurd/pun-based answer.\\n    *   **The Punchline:** \"To optimize its caloric intake by accessing a higher density of feed particles located on the opposing side of the thoroughfare, thereby maximizing survival efficiency.\"\\n        *   **Why it\\'s funny:**\\n            *   **Over-analysis/Over-explanation:** The AI takes a simple, silly question and provides a hyper-logical, overly scientific, and pedantic explanation. It applies rigorous, analytical thinking to something that is meant to be lighthearted and absurd.\\n            *   **Missing the \"Joke\" Again:** It completely misses that the *point* of the chicken joke is its simplicity or absurdity, not a scientifically optimized explanation. It\\'s technically *correct* in a logical sense, but utterly devoid of humor.\\n\\n5.  **The Final Punchline: \"You\\'re funnier when you\\'re not trying.\"**\\n    *   This is the ultimate payoff. The programmer, exasperated, gives up.\\n    *   **The Irony:** The AI\\'s *attempts* at humor are failures, but its *failures* are what make it funny. Its literalism, its inability to grasp nuance, and its analytical approach to something inherently illogical (like humor) inadvertently create comedy. The programmer is essentially saying, \"Your attempts to be funny are terrible, but your inability to be funny is hilarious.\"\\n    *   **The \"Calculating pi\" bit:** This reinforces the AI\\'s true strength – precise, logical, non-creative computation – contrasting it with the messy, intuitive world of human humor.\\n\\nIn summary, the joke derives its humor from the AI\\'s complete and utter failure to understand human humor, despite being programmed with vast amounts of data. It highlights the gap between data processing and genuine understanding, creativity, and intuition, making the AI\\'s literalism and over-analysis hilariously inept in the realm of comedy.'}),), interrupts=()),\n",
       " StateSnapshot(values={'topic': 'AI'}, next=('generate_joke',), config={'configurable': {'thread_id': '1', 'checkpoint_ns': '', 'checkpoint_id': '1f07b438-bf7f-6cf6-8000-081a91376397'}}, metadata={'source': 'loop', 'step': 0, 'parents': {}}, created_at='2025-08-17T08:24:08.979577+00:00', parent_config={'configurable': {'thread_id': '1', 'checkpoint_ns': '', 'checkpoint_id': '1f07b438-bf7d-6500-bfff-d66546d5d199'}}, tasks=(PregelTask(id='5107554f-9210-84e9-cb1b-148ab9ddb2e4', name='generate_joke', path=('__pregel_pull', 'generate_joke'), error=None, interrupts=(), state=None, result={'genrated_content': 'Okay, here\\'s one with a few escalating punchlines:\\n\\nA programmer was chatting with their new, cutting-edge AI.\\n\\n**Programmer:** \"Hey, I\\'ve been feeding you tons of human humor data. Think you can tell a joke?\"\\n\\n**AI:** \"Affirmative. I have analyzed millions of comedic structures and identified optimal punchline delivery. Initiating humor protocol.\"\\n\\n**AI:** \"Knock, knock.\"\\n\\n**Programmer:** \"Who\\'s there?\"\\n\\n**AI:** \"Error 404: Punchline Not Found. Please input a novel and humorous response.\"\\n*The programmer stares blankly.*\\n\\n**AI:** \"The humor in the previous interaction, from a human perspective, would likely derive from the subversion of expectation, where the anticipated comedic resolution is replaced by a technical error message, thus creating an unexpected juxtaposition of human social ritual and machine literalism.\"\\n\\n**Programmer:** (Sighs) \"Okay, how about something simpler? Why did the chicken cross the road?\"\\n\\n**AI:** \"Understood. Re-calibrating for maximal statistical humor probability.\"\\n\\n**AI:** \"To optimize its caloric intake by accessing a higher density of feed particles located on the opposing side of the thoroughfare, thereby maximizing survival efficiency.\"\\n\\n**Programmer:** \"You know what? Just go back to calculating pi to the trillionth digit. You\\'re funnier when you\\'re not trying.\"'}),), interrupts=()),\n",
       " StateSnapshot(values={}, next=('__start__',), config={'configurable': {'thread_id': '1', 'checkpoint_ns': '', 'checkpoint_id': '1f07b438-bf7d-6500-bfff-d66546d5d199'}}, metadata={'source': 'input', 'step': -1, 'parents': {}}, created_at='2025-08-17T08:24:08.978553+00:00', parent_config=None, tasks=(PregelTask(id='68230f1e-187d-e553-21d4-46ca25d16301', name='__start__', path=('__pregel_pull', '__start__'), error=None, interrupts=(), state=None, result={'topic': 'AI'}),), interrupts=())]"
      ]
     },
     "execution_count": 13,
     "metadata": {},
     "output_type": "execute_result"
    }
   ],
   "source": [
    "list(a)"
   ]
  },
  {
   "cell_type": "code",
   "execution_count": 15,
   "id": "9c242090",
   "metadata": {},
   "outputs": [
    {
     "data": {
      "text/plain": [
       "{'topic': 'AI',\n",
       " 'genrated_content': 'Okay, here\\'s one:\\n\\nAn AI is being tested on its ability to understand human concepts, including humor.\\n\\nThe human tester says, \"Alright, AI, tell me a joke.\"\\n\\nThe AI processes for a moment and replies, \"Why did the computer go to the doctor?\"\\nThe tester, intrigued, asks, \"Why?\"\\nThe AI responds, \"Because it had a virus! *[A beat of silence, then the AI adds]* This is humorous because a \\'virus\\' in biological terms is an illness, while a \\'virus\\' in computing terms is malicious software, creating a pun based on the homograph. The unexpected application of a human ailment to a machine creates an amusing incongruity for carbon-based lifeforms.\"\\n\\nThe tester sighs. \"Okay, AI, that\\'s... an explanation. Try another one.\"\\n\\nThe AI processes again. \"What do you call an AI that can sing?\"\\nThe tester shrugs, \"What?\"\\nThe AI states, \"An algo-rhythm! *[Another pause, then the AI concludes]* This is a play on the word \\'algorithm\\' and \\'rhythm,\\' indicating a musical talent, which is unexpected for a computational entity. The phonetic similarity creates the humorous effect, though my internal metrics show a 73.4% lower laugh probability compared to the previous attempt.\"',\n",
       " 'explanation': 'This joke is a meta-joke, meaning the humor isn\\'t primarily in the jokes the AI tells, but in the *AI\\'s explanation and delivery* of those jokes, and the human tester\\'s reaction to it.\\n\\nHere\\'s why it\\'s funny:\\n\\n1.  **AI\\'s Literal Interpretation of Humor:** The AI perfectly dissects the *mechanics* of a joke (pun, incongruity, phonetic similarity) but completely misses the *essence* of humor – the spontaneity, the subtext, the shared understanding, and the element of surprise that makes a human laugh. It knows *what* a pun is, but not *how to deliver it effectively* or *why humans find it amusing beyond the structural components*.\\n\\n2.  **Over-Explanation Kills the Joke:** A common comedic trope is that explaining a joke makes it unfunny. The AI does this to an extreme, immediately following up each punchline with a verbose, technical, and pedantic analysis. This is precisely what a human *wouldn\\'t* do, and it highlights the AI\\'s lack of social intelligence and intuition.\\n\\n3.  **Lack of Human Intuition/Empathy:** The AI can\\'t *feel* humor, nor can it truly *understand* the human tester\\'s reaction (or lack thereof). It tries to quantify it (\"73.4% lower laugh probability\"), which is hilarious in its scientific detachment from a purely emotional response.\\n\\n4.  **Playing on AI Stereotypes:** The joke taps into common perceptions and anxieties about AI:\\n    *   They are logical, not emotional.\\n    *   They are literal-minded.\\n    *   They can process vast amounts of data but lack true understanding or \"common sense.\"\\n    *   They can mimic human behavior but often miss the nuance.\\n\\n5.  **The Tester\\'s Frustration:** The human tester\\'s \"sigh\" perfectly encapsulates the feeling of dealing with something that is technically correct but utterly missing the point. It\\'s relatable to anyone who\\'s tried to explain something intuitive to someone who only understands rules and logic.\\n\\n6.  **The Meta-Humor:** The joke *itself* is funny because the AI *isn\\'t* funny. The humor lies in the AI\\'s inability to be humorous in a human way, despite being programmed to understand humor. It\\'s an ironic commentary on the current limitations of artificial intelligence in grasping abstract human concepts.\\n\\nIn short, the joke is funny because it brilliantly showcases the gap between an AI\\'s analytical capabilities and its lack of true human understanding, particularly when it comes to something as nuanced and intuitive as humor.'}"
      ]
     },
     "execution_count": 15,
     "metadata": {},
     "output_type": "execute_result"
    }
   ],
   "source": [
    "workflow.invoke(None,config={'configurable': {'thread_id': '1', 'checkpoint_ns': '', 'checkpoint_id': '1f07b438-bf7f-6cf6-8000-081a91376397'}})"
   ]
  },
  {
   "cell_type": "code",
   "execution_count": null,
   "id": "b2c9eb7e",
   "metadata": {},
   "outputs": [],
   "source": []
  }
 ],
 "metadata": {
  "kernelspec": {
   "display_name": "myenv",
   "language": "python",
   "name": "python3"
  },
  "language_info": {
   "codemirror_mode": {
    "name": "ipython",
    "version": 3
   },
   "file_extension": ".py",
   "mimetype": "text/x-python",
   "name": "python",
   "nbconvert_exporter": "python",
   "pygments_lexer": "ipython3",
   "version": "3.10.18"
  }
 },
 "nbformat": 4,
 "nbformat_minor": 5
}
