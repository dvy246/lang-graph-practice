{
 "cells": [
  {
   "cell_type": "code",
   "execution_count": 1,
   "id": "05afb5d4",
   "metadata": {},
   "outputs": [
    {
     "data": {
      "text/plain": [
       "True"
      ]
     },
     "execution_count": 1,
     "metadata": {},
     "output_type": "execute_result"
    }
   ],
   "source": [
    "from langgraph.checkpoint.memory import InMemorySaver\n",
    "from langgraph.graph import StateGraph,START,END\n",
    "from  langchain_google_genai import ChatGoogleGenerativeAI\n",
    "from langchain_mistralai import ChatMistralAI\n",
    "from typing import TypedDict\n",
    "from dotenv import load_dotenv\n",
    "import time\n",
    "import os\n",
    "load_dotenv()"
   ]
  },
  {
   "cell_type": "code",
   "execution_count": 2,
   "id": "d6969508",
   "metadata": {},
   "outputs": [],
   "source": [
    "api_keys=[os.getenv('google'),os.getenv('mistral_ai')]\n",
    "\n",
    "model=ChatGoogleGenerativeAI(api_key=api_keys[0],model='gemini-2.5-flash')"
   ]
  },
  {
   "cell_type": "code",
   "execution_count": 3,
   "id": "876639e3",
   "metadata": {},
   "outputs": [],
   "source": [
    "class JOKE(TypedDict):\n",
    "    topic:str\n",
    "    genrated_content:str\n",
    "    explanation:str"
   ]
  },
  {
   "cell_type": "code",
   "execution_count": 4,
   "id": "0b0cd036",
   "metadata": {},
   "outputs": [],
   "source": [
    "graph=StateGraph(JOKE)\n",
    "memory=InMemorySaver()"
   ]
  },
  {
   "cell_type": "code",
   "execution_count": 5,
   "id": "436e0594",
   "metadata": {},
   "outputs": [],
   "source": [
    "def generate_joke(state:JOKE) -> JOKE['genrated_content']:\n",
    "    topic=state['topic']\n",
    "    prompt=f\"generate a joke about {topic} with punchlines\"\n",
    "    time.sleep(30)\n",
    "    joke=model.invoke(prompt).content\n",
    "    return {'genrated_content':joke}\n",
    "\n",
    "def explain_joke(state:JOKE) -> JOKE['explanation']:\n",
    "    joke=state['genrated_content']\n",
    "    prompt=f\"explain the joke {joke}\"\n",
    "    explanation=model.invoke(prompt).content\n",
    "    return {'explanation':explanation}"
   ]
  },
  {
   "cell_type": "code",
   "execution_count": 6,
   "id": "d2850adf",
   "metadata": {},
   "outputs": [],
   "source": [
    "graph.add_node('generate_joke',generate_joke)\n",
    "graph.add_node('explain_joke',explain_joke)\n",
    "\n",
    "graph.add_edge(START,'generate_joke')\n",
    "graph.add_edge('generate_joke','explain_joke')\n",
    "graph.add_edge('explain_joke',END)\n",
    "\n",
    "workflow=graph.compile(checkpointer=memory)\n"
   ]
  },
  {
   "cell_type": "code",
   "execution_count": 7,
   "id": "20a76671",
   "metadata": {},
   "outputs": [
    {
     "data": {
      "image/png": "[encoded data removed]",
      "text/plain": [
       "<IPython.core.display.Image object>"
      ]
     },
     "execution_count": 7,
     "metadata": {},
     "output_type": "execute_result"
    }
   ],
   "source": [
    "from IPython.display import Image\n",
    "\n",
    "Image(workflow.get_graph().draw_mermaid_png())"
   ]
  },
  {
   "cell_type": "code",
   "execution_count": null,
   "id": "14cb1081",
   "metadata": {},
   "outputs": [],
   "source": [
    "inital={'topic':'AI'}\n",
    "config={'configurable':{'thread_id':'1'}}\n",
    "try:\n",
    "    workflow.invoke(inital,config=config)\n",
    "except Exception as e:\n",
    "    print(e)\n",
    "except KeyboardInterrupt:\n",
    "    print(\"workflow stopped\")\n"
   ]
  },
  {
   "cell_type": "code",
   "execution_count": null,
   "id": "400a2cd0",
   "metadata": {},
   "outputs": [],
   "source": []
  }
 ],
 "metadata": {
  "kernelspec": {
   "display_name": "myenv",
   "language": "python",
   "name": "python3"
  },
  "language_info": {
   "codemirror_mode": {
    "name": "ipython",
    "version": 3
   },
   "file_extension": ".py",
   "mimetype": "text/x-python",
   "name": "python",
   "nbconvert_exporter": "python",
   "pygments_lexer": "ipython3",
   "version": "3.10.18"
  }
 },
 "nbformat": 4,
 "nbformat_minor": 5
}
