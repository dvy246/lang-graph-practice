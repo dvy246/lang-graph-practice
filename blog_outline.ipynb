{
 "cells": [
  {
   "cell_type": "code",
   "execution_count": 1,
   "id": "04f3603d",
   "metadata": {},
   "outputs": [
    {
     "data": {
      "text/plain": [
       "True"
      ]
     },
     "execution_count": 1,
     "metadata": {},
     "output_type": "execute_result"
    }
   ],
   "source": [
    "from langchain_mistralai import ChatMistralAI\n",
    "from langgraph.graph import StateGraph,START,END\n",
    "from typing import TypedDict\n",
    "from dotenv import load_dotenv\n",
    "import os\n",
    "load_dotenv()"
   ]
  },
  {
   "cell_type": "code",
   "execution_count": 2,
   "id": "60ba1b5c",
   "metadata": {},
   "outputs": [],
   "source": [
    "#define state\n",
    "class BLOG(TypedDict):\n",
    "    outline:str\n",
    "    title:str\n",
    "    content:str"
   ]
  },
  {
   "cell_type": "code",
   "execution_count": 3,
   "id": "6f059150",
   "metadata": {},
   "outputs": [],
   "source": [
    "model=ChatMistralAI(api_key=os.getenv(\"mistral_ai\"))"
   ]
  },
  {
   "cell_type": "code",
   "execution_count": 4,
   "id": "288ecae8",
   "metadata": {},
   "outputs": [],
   "source": [
    "#define the graph\n",
    "graph=StateGraph(BLOG)"
   ]
  },
  {
   "cell_type": "code",
   "execution_count": 5,
   "id": "64918d43",
   "metadata": {},
   "outputs": [],
   "source": [
    "def get_outline(state:BLOG)->BLOG['outline']:\n",
    "    prompt=f\"generate a comprehensive and clear outline for a blog post about {state['title']}\"\n",
    "    outline=model.invoke(prompt).content\n",
    "    state['outline']=outline\n",
    "    return {'outline':outline}\n",
    "\n",
    "def get_content(state:BLOG)->BLOG['content']:\n",
    "    prompt=f\"generate a comprehensive and clear content for a blog post about {state['title']} based on the outline {state['outline']}\"\n",
    "    content=model.invoke(prompt).content\n",
    "    state['content']=content\n",
    "    return {'content':content}"
   ]
  },
  {
   "cell_type": "code",
   "execution_count": 6,
   "id": "551955d2",
   "metadata": {},
   "outputs": [
    {
     "data": {
      "text/plain": [
       "<langgraph.graph.state.StateGraph at 0x11b9edb70>"
      ]
     },
     "execution_count": 6,
     "metadata": {},
     "output_type": "execute_result"
    }
   ],
   "source": [
    "#define the nodes\n",
    "graph.add_node('outline',get_outline)\n",
    "graph.add_node('content',get_content)\n",
    "\n",
    "#make the edges\n",
    "graph.add_edge(START,'outline')\n",
    "graph.add_edge('outline','content')\n",
    "graph.add_edge('content',END)"
   ]
  },
  {
   "cell_type": "code",
   "execution_count": 7,
   "id": "107f759c",
   "metadata": {},
   "outputs": [
    {
     "data": {
      "image/png": "[encoded data removed]",
      "text/plain": [
       "<langgraph.graph.state.CompiledStateGraph object at 0x11bc4b280>"
      ]
     },
     "execution_count": 7,
     "metadata": {},
     "output_type": "execute_result"
    }
   ],
   "source": [
    "workflow=graph.compile()\n",
    "\n",
    "workflow"
   ]
  },
  {
   "cell_type": "code",
   "execution_count": 10,
   "id": "dc92a50f",
   "metadata": {},
   "outputs": [
    {
     "data": {
      "text/plain": [
       "\"Artificial Intelligence (AI) is a rapidly growing field, with applications in various industries such as healthcare, finance, and entertainment. As AI continues to advance and shape our world, many individuals are considering a career change or entering the workforce in this exciting field. But what about those who come from a non-technical background, such as a BCom Hons degree? Is it possible for them to go into the AI field? In this blog post, we will explore this question and provide a comprehensive guide for non-technical background individuals who are interested in transitioning into AI.\\n\\nI. Introduction\\n\\nA. Explanation of the growing field of Artificial Intelligence (AI)\\nArtificial Intelligence (AI) is a branch of computer science that aims to create machines that mimic human intelligence. With the rapid advancement of technology, AI has become a significant part of our daily lives, from virtual assistants like Siri and Alexa to recommendation algorithms used by Netflix and Amazon. According to a report by the McKinsey Global Institute, AI has the potential to create an economic value of $13 trillion by 2030.\\n\\nB. Overview of the question: Can a person with a non-technical background go into the AI field?\\nThe short answer is yes, a person with a non-technical background can go into the AI field. While technical skills such as programming, mathematics, and data analysis are essential in AI, there are also non-technical skills that are valuable in this field, such as creativity, critical thinking, and communication. Moreover, a liberal arts education can provide a unique perspective and contribute to the ethical considerations and interdisciplinary collaboration needed in AI.\\n\\nC. Importance of the topic for those considering a career change or entering the workforce\\nAs AI continues to grow and shape our world, there is a high demand for AI professionals. According to a report by Indeed, job postings for AI-related roles have increased by 29.2% in the past year alone. Transitioning into the AI field can provide opportunities for career growth, financial stability, and personal satisfaction. Therefore, it is essential to explore the possibilities of a career in AI, even for those with a non-technical background.\\n\\nII. Understanding AI and Its Requirements\\n\\nA. Definition of AI and its subfields\\nAI is a broad field that includes various subfields, such as machine learning, natural language processing, computer vision, and robotics. Machine learning is a method of data analysis that automates the building of analytical models. Natural language processing is the ability of a computer program to understand human language. Computer vision is the field of study that trains computers to interpret and understand the visual world. Robotics is the interdisciplinary field of science and engineering that focuses on the design, construction, operation, and use of robots.\\n\\nB. Explanation of the technical skills needed for AI, such as programming, mathematics, and data analysis\\nTo work in AI, technical skills such as programming, mathematics, and data analysis are essential. Programming languages such as Python, R, and Java are commonly used in AI. Mathematics, particularly statistics, linear algebra, and calculus, are also crucial in AI. Data analysis is the process of inspecting, cleansing, transforming, and modeling data to discover useful information, draw conclusions, and support decision-making.\\n\\nC. Overview of the educational backgrounds of current AI professionals\\nAccording to a survey by O'Reilly, 45% of AI professionals have a master's degree, and 20% have a Ph.D. The most common degrees held by AI professionals are computer science, mathematics, and engineering. However, this does not mean that individuals with a non-technical background cannot transition into AI. With the right resources, dedication, and hard work, a career change into AI is possible.\\n\\nIII. Breaking Down Barriers: Non-Technical Backgrounds in AI\\n\\nA. Exploration of non-technical skills that are valuable in AI, such as creativity, critical thinking, and communication\\nWhile technical skills are essential in AI, non-technical skills are also valuable. Creativity is crucial in generating new ideas and solving complex problems. Critical thinking is necessary for evaluating and selecting the best solutions. Communication skills are essential for collaborating with team members, presenting ideas, and explaining complex concepts to non-technical stakeholders.\\n\\nB. Discussion of the role of liberal arts education in AI, including the importance of ethical considerations and interdisciplinary collaboration\\nA liberal arts education can provide a unique perspective and contribute to the ethical considerations and interdisciplinary collaboration needed in AI. As AI becomes more prevalent, ethical considerations such as privacy, bias, and transparency become increasingly important. A liberal arts education can provide a foundation in ethics, philosophy, and social sciences, which can be applied to AI. Interdisciplinary collaboration is also crucial in AI, as it requires the integration of various fields such as computer science, mathematics, and design.\\n\\nC. Explanation of online resources, courses, and degree programs that can help non-technical background individuals transition into AI\\nThere are various online resources, courses, and degree programs that can help non-technical background individuals transition into AI. Online platforms such as Coursera, edX, and Udacity offer courses in AI, machine learning, and data science. Universities such as Stanford, Carnegie Mellon, and MIT offer online degree programs in AI and related fields. Joining online communities such as Kaggle, GitHub, and Reddit can also provide opportunities for learning, collaboration, and mentorship.\\n\\nIV. Real-World Examples: Non-Technical Professionals in AI\\n\\nA. Case studies or interviews of individuals who have made the transition from a non-technical background to a career in AI\\nThere are various examples of individuals who have made the transition from a non-technical background to a career in AI. For instance, Rachel Thomas, a philosophy major, co-founded Fast.ai, a leading provider of deep learning education. Marek Rosa, a physics major, founded GoodAI, a research company focused on artificial general intelligence. Their stories demonstrate that a non-technical background is not a barrier to a career in AI.\\n\\nB. Discussion of their paths, challenges, and successes\\nThe paths, challenges, and successes of non-technical professionals in AI vary. Some may have taken online courses or degree programs, while others may have learned through self-study or on-the-job training. Common challenges include imposter syndrome, self-doubt, and the steep learning curve of technical skills. Successes may include landing a job in AI, publishing research, or starting a company.\\n\\nC. Highlighting the diversity of roles and opportunities available in AI for non-technical professionals\\nThere are various roles and opportunities available in AI for non-technical professionals. These include project management, product management, user experience design, sales, marketing, and ethics. Non-technical professionals can contribute to AI by providing a user-centered perspective, communicating complex concepts, and ensuring ethical considerations.\\n\\nV. Preparing for the Transition: Steps to Take\\n\\nA. Assessment of one's own skills, interests, and career goals\\nBefore transitioning into AI, it is essential to assess one's own skills, interests, and career goals. Identifying one's strengths, weaknesses, and passions can help determine the best path in AI.\\n\\nB. Identification of relevant online courses, degree programs, or certifications\\nThere are various online courses, degree programs, and certifications that can help non-technical background individuals transition into AI. Identifying relevant courses and programs can provide a structured learning path and credential.\\n\\nC. Building a network and seeking mentorship in the AI field\\nBuilding a network and seeking mentorship in the AI field can provide opportunities for learning, collaboration, and career growth. Attending conferences, joining online communities, and reaching out to AI professionals can help build a network. Seeking mentorship from experienced AI professionals can provide guidance, feedback, and support.\\n\\nD. Practical tips for learning technical skills, such as self-study, coding bootcamps, or joining online communities\\nLearning technical skills can be challenging for non-technical background individuals. Practical tips for learning technical skills include self-study, coding bootcamps, and joining online communities. Self-study can provide flexibility and personalized learning. Coding bootcamps can provide immersive and intensive learning. Joining online communities can provide opportunities for collaboration, feedback, and support.\\n\\nVI. Conclusion\\n\\nA. Restatement of the main points of the article\\nIn this blog post, we explored the question of whether a person with a non-technical background can go into the AI field. We discussed the definition and subfields of AI, the technical skills needed for AI, and the educational backgrounds of current AI professionals. We also explored the non-technical skills and liberal arts education that are valuable in AI, the online resources, courses, and degree programs that can help non-technical background individuals transition into AI, and the real-world examples of non-technical professionals in AI.\\n\\nB. Encouragement for non-technical background individuals to consider a career in AI\\nWe encourage non-technical background individuals to consider a career in AI. With the right resources, dedication, and hard work, a career change into AI is possible. Non-technical skills are valuable in AI, and a liberal arts education can provide a unique perspective and contribute to ethical considerations and interdisciplinary collaboration.\\n\\nC. Final thoughts on the importance of diversity, interdisciplinary collaboration, and lifelong learning in the AI field.\\nFinally, we want to emphasize the importance of diversity, interdisciplinary collaboration, and lifelong learning in the AI field. Diversity in AI can provide a variety of perspectives, ideas, and solutions. Interdisciplinary collaboration can lead to innovation and creativity. Lifelong learning can provide continuous growth, development, and adaptation in the rapidly changing AI field.\""
      ]
     },
     "execution_count": 10,
     "metadata": {},
     "output_type": "execute_result"
    }
   ],
   "source": [
    "result=workflow.invoke({'title':'can a person with non tech backgorund go into ai field like bcom hons'})\n",
    "result['content']"
   ]
  },
  {
   "cell_type": "code",
   "execution_count": null,
   "id": "66d180e8",
   "metadata": {},
   "outputs": [],
   "source": []
  }
 ],
 "metadata": {
  "kernelspec": {
   "display_name": "myenv",
   "language": "python",
   "name": "python3"
  },
  "language_info": {
   "codemirror_mode": {
    "name": "ipython",
    "version": 3
   },
   "file_extension": ".py",
   "mimetype": "text/x-python",
   "name": "python",
   "nbconvert_exporter": "python",
   "pygments_lexer": "ipython3",
   "version": "3.10.18"
  }
 },
 "nbformat": 4,
 "nbformat_minor": 5
}
