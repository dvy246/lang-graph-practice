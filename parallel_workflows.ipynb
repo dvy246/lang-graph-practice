{
 "cells": [
  {
   "cell_type": "code",
   "execution_count": 1,
   "id": "0578481a",
   "metadata": {},
   "outputs": [
    {
     "data": {
      "text/plain": [
       "True"
      ]
     },
     "execution_count": 1,
     "metadata": {},
     "output_type": "execute_result"
    }
   ],
   "source": [
    "from langchain_mistralai import ChatMistralAI\n",
    "from langchain_google_genai import ChatGoogleGenerativeAI\n",
    "from langgraph.graph import StateGraph,START,END\n",
    "from dotenv import load_dotenv\n",
    "from typing import TypedDict,List,Annotated\n",
    "from statistics import mean\n",
    "from pydantic import BaseModel,Field\n",
    "from operator import add\n",
    "import os\n",
    "from langsmith.wrappers import wrap_anthropic\n",
    "\n",
    "load_dotenv()"
   ]
  },
  {
   "cell_type": "code",
   "execution_count": 2,
   "id": "b5cfefc6",
   "metadata": {},
   "outputs": [],
   "source": [
    "google=ChatGoogleGenerativeAI(api_key=os.getenv(\"google\"),model='gemini-2.5-flash')"
   ]
  },
  {
   "cell_type": "code",
   "execution_count": 3,
   "id": "1c768c60",
   "metadata": {},
   "outputs": [],
   "source": [
    "model=ChatMistralAI(api_key=os.getenv(\"mistral_ai\"))"
   ]
  },
  {
   "cell_type": "code",
   "execution_count": 4,
   "id": "45c3e704",
   "metadata": {},
   "outputs": [],
   "source": [
    "class EVALUATION(BaseModel):\n",
    "    feedback:str=Field(...,description='Detailed feedback on the basis of the essay')\n",
    "    score: int = Field(description='Score out of 10', ge=0, le=10,default=0)\n",
    "    improvement_tips:str=Field(...,description='Detailed improvement tips on the basis of the essay')\n",
    "\n",
    "structured_model=model.with_structured_output(EVALUATION)\n",
    "google_output=google.with_structured_output(EVALUATION)"
   ]
  },
  {
   "cell_type": "code",
   "execution_count": 5,
   "id": "2bac9508",
   "metadata": {},
   "outputs": [],
   "source": [
    "essay='Title: The Impact and Implications of Artificial Intelligence\\n\\nArtificial Intelligence (AI) is a rapidly evolving field that has the potential to transform every aspect of human life, from transportation and healthcare to education and entertainment. As we stand on the precipice of an AI revolution, it is essential to examine its impact and implications on society.\\n\\nAt its core, AI is the simulation of human intelligence processes by machines, especially computer systems. These processes include learning, reasoning, problem-solving, perception, and language understanding. With the help of AI, machines can perform tasks that typically require human intelligence, such as recognizing speech, making decisions, and solving complex problems.\\n\\nOne of the most significant impacts of AI is its potential to drive economic growth and productivity. According to a report by McKinsey Global Institute, AI could contribute up to $15.7 trillion to the global economy by 2030, equivalent to the combined output of China and India today. AI can help businesses automate routine tasks, optimize operations, and make better decisions, leading to significant cost savings and increased efficiency.\\n\\nHowever, the rise of AI also raises important ethical and social concerns. One of the most pressing issues is the potential for AI to exacerbate existing inequalities and create new ones. For instance, AI-powered algorithms have been found to perpetuate gender and racial biases, leading to discriminatory outcomes in areas such as hiring and lending. Moreover, the automation of jobs could lead to significant job losses, especially in low-skilled occupations, potentially increasing income inequality and social unrest.\\n\\nAnother concern is the lack of transparency and accountability in AI systems. As AI becomes more complex and autonomous, it becomes increasingly difficult to understand how decisions are made, leading to a \"black box\" problem. This lack of transparency raises concerns about the responsible use of AI, particularly in critical areas such as healthcare, finance, and criminal justice.\\n\\nTo address these concerns, it is essential to establish clear guidelines and regulations for the development and deployment of AI. Governments and international organizations should work together to create a framework that ensures the ethical and responsible use of AI, while also promoting innovation and economic growth.\\n\\nIn addition, there is a need for greater education and awareness about AI. While AI has the potential to create significant benefits, it also has the potential to cause harm if used irresponsibly. By educating the public about AI, we can help ensure that people are equipped to make informed decisions about its use and to mitigate its risks.\\n\\nIn conclusion, AI is a powerful technology that has the potential to transform our world in profound ways. While it offers significant opportunities for economic growth and productivity, it also poses important ethical and social challenges. To realize the full potential of AI, we must work together to establish clear guidelines and regulations, promote education and awareness, and ensure that its benefits are shared fairly among all members of society. With careful planning and collaboration, we can harness the power of AI to build a better future for all.'"
   ]
  },
  {
   "cell_type": "code",
   "execution_count": 6,
   "id": "f97ffd62",
   "metadata": {},
   "outputs": [
    {
     "data": {
      "text/plain": [
       "'While the language is generally excellent, there are opportunities for minor refinements. Some sentences could be made more concise to enhance flow and impact. Additionally, varying sentence structures more deliberately could further improve readability and engagement, preventing a slight monotony in rhythm. Ensuring all topic sentences are highly explicit could also strengthen paragraph cohesion.'"
      ]
     },
     "execution_count": 6,
     "metadata": {},
     "output_type": "execute_result"
    }
   ],
   "source": [
    "prompt = f'Evaluate the language quality of the following essay and provide a feedback and assign a score out of 10 \\n {essay}'\n",
    "\n",
    "google_output.invoke(prompt).improvement_tips"
   ]
  },
  {
   "cell_type": "code",
   "execution_count": 7,
   "id": "ac86c474",
   "metadata": {},
   "outputs": [],
   "source": [
    "class UPSC(TypedDict):\n",
    "    clarity_of_thoughts_feedback:str\n",
    "    essay:str\n",
    "    language_feedback:str\n",
    "    analysis_feedback:str\n",
    "    overall_feedback:str\n",
    "    tips:Annotated[list,add] \n",
    "    score:Annotated[list[int],add]\n",
    "    "
   ]
  },
  {
   "cell_type": "code",
   "execution_count": 8,
   "id": "2f0a6105",
   "metadata": {},
   "outputs": [],
   "source": [
    "graph=StateGraph(UPSC)"
   ]
  },
  {
   "cell_type": "code",
   "execution_count": 9,
   "id": "f4304365",
   "metadata": {},
   "outputs": [],
   "source": [
    "def COT(state:UPSC)->UPSC['clairty_of_thoughts_feedback']:\n",
    "    essay='Title: The Impact and Implications of Artificial Intelligence\\n\\nArtificial Intelligence (AI) is a rapidly evolving field that has the potential to transform every aspect of human life, from transportation and healthcare to education and entertainment. As we stand on the precipice of an AI revolution, it is essential to examine its impact and implications on society.\\n\\nAt its core, AI is the simulation of human intelligence processes by machines, especially computer systems. These processes include learning, reasoning, problem-solving, perception, and language understanding. With the help of AI, machines can perform tasks that typically require human intelligence, such as recognizing speech, making decisions, and solving complex problems.\\n\\nOne of the most significant impacts of AI is its potential to drive economic growth and productivity. According to a report by McKinsey Global Institute, AI could contribute up to $15.7 trillion to the global economy by 2030, equivalent to the combined output of China and India today. AI can help businesses automate routine tasks, optimize operations, and make better decisions, leading to significant cost savings and increased efficiency.\\n\\nHowever, the rise of AI also raises important ethical and social concerns. One of the most pressing issues is the potential for AI to exacerbate existing inequalities and create new ones. For instance, AI-powered algorithms have been found to perpetuate gender and racial biases, leading to discriminatory outcomes in areas such as hiring and lending. Moreover, the automation of jobs could lead to significant job losses, especially in low-skilled occupations, potentially increasing income inequality and social unrest.\\n\\nAnother concern is the lack of transparency and accountability in AI systems. As AI becomes more complex and autonomous, it becomes increasingly difficult to understand how decisions are made, leading to a \"black box\" problem. This lack of transparency raises concerns about the responsible use of AI, particularly in critical areas such as healthcare, finance, and criminal justice.\\n\\nTo address these concerns, it is essential to establish clear guidelines and regulations for the development and deployment of AI. Governments and international organizations should work together to create a framework that ensures the ethical and responsible use of AI, while also promoting innovation and economic growth.\\n\\nIn addition, there is a need for greater education and awareness about AI. While AI has the potential to create significant benefits, it also has the potential to cause harm if used irresponsibly. By educating the public about AI, we can help ensure that people are equipped to make informed decisions about its use and to mitigate its risks.\\n\\nIn conclusion, AI is a powerful technology that has the potential to transform our world in profound ways. While it offers significant opportunities for economic growth and productivity, it also poses important ethical and social challenges. To realize the full potential of AI, we must work together to establish clear guidelines and regulations, promote education and awareness, and ensure that its benefits are shared fairly among all members of society. With careful planning and collaboration, we can harness the power of AI to build a better future for all.'\n",
    "    state['essay']=essay\n",
    "    prompt = f'Evaluate the clarity of thoughts of the following essay and provide a feedback and assign a score out of 10 \\n {state[\"essay\"]}'\n",
    "    cot=google_output.invoke(prompt).feedback\n",
    "    score=google_output.invoke(prompt).score\n",
    "    tips=google_output.invoke(prompt).improvement_tips\n",
    "    return {'clarity_of_thoughts_feedback':cot,'score':[score],'tips':[tips]}\n",
    "\n",
    "def Language(state:UPSC)->UPSC['language_feedback']:\n",
    "    prompt = f'Evaluate the language quality of the following essay and provide a feedback and assign a score out of 10 \\n {state[\"essay\"]}'\n",
    "    language=google_output.invoke(prompt).feedback\n",
    "    score=google_output.invoke(prompt).score\n",
    "    lang_tips=google_output.invoke(prompt).improvement_tips\n",
    "    return {'language_feedback':language,'score':[score],'tips':[lang_tips]}\n",
    "\n",
    "def Analysis(state:UPSC)->UPSC['analysis_feedback']:    \n",
    "    prompt = f'Evaluate and do an depth analysis quality of the following essay and provide a feedback and assign a score out of 10 \\n {state[\"essay\"]}'\n",
    "    analysis=google_output.invoke(prompt).feedback\n",
    "    score=google_output.invoke(prompt).score\n",
    "    analysis_tips=google_output.invoke(prompt).improvement_tips\n",
    "    return {'analysis_feedback':analysis,'score':[score],'tips':[analysis_tips]}\n"
   ]
  },
  {
   "cell_type": "code",
   "execution_count": 10,
   "id": "d979da07",
   "metadata": {},
   "outputs": [],
   "source": [
    "def overall(state:UPSC)->UPSC['overall_feedback']:\n",
    "     # summary feedback\n",
    "    prompt = f'Based on the following feedbacks create a summarized feedback \\n language feedback - {state[\"language_feedback\"]} \\n depth of analysis feedback - {state[\"analysis_feedback\"]} \\n clarity of thought feedback - {state[\"clarity_of_thoughts_feedback\"]}'\n",
    "    overall_feedback = model.invoke(prompt).content\n",
    "    avg=lambda x:mean(x)\n",
    "    avg_score=avg(state['score'])\n",
    "    return {'overall_feedback':overall_feedback,'avg_score':avg_score}\n",
    "\n",
    "def overall_tips(state:UPSC)->UPSC['tips']:\n",
    "    prompt=f\"based on the tips on t \\n {state['tips']} \\n give a feedback on the overall essat give a solid tip\"\n",
    "    tips=model.invoke(prompt).content\n",
    "    return {'tips':[tips]}"
   ]
  },
  {
   "cell_type": "code",
   "execution_count": 11,
   "id": "d95c3207",
   "metadata": {},
   "outputs": [
    {
     "data": {
      "text/plain": [
       "<langgraph.graph.state.StateGraph at 0x11b7dc310>"
      ]
     },
     "execution_count": 11,
     "metadata": {},
     "output_type": "execute_result"
    }
   ],
   "source": [
    "graph.add_node('overaall',overall_tips)"
   ]
  },
  {
   "cell_type": "code",
   "execution_count": 12,
   "id": "5d284803",
   "metadata": {},
   "outputs": [
    {
     "data": {
      "text/plain": [
       "<langgraph.graph.state.StateGraph at 0x11b7dc310>"
      ]
     },
     "execution_count": 12,
     "metadata": {},
     "output_type": "execute_result"
    }
   ],
   "source": [
    "#adding nodes\n",
    "graph.add_node('COT',COT)\n",
    "graph.add_node('Language',Language)\n",
    "graph.add_node('Analysis',Analysis)\n",
    "graph.add_node('Overall',overall)"
   ]
  },
  {
   "cell_type": "code",
   "execution_count": 13,
   "id": "8bb2715a",
   "metadata": {},
   "outputs": [
    {
     "data": {
      "text/plain": [
       "<langgraph.graph.state.StateGraph at 0x11b7dc310>"
      ]
     },
     "execution_count": 13,
     "metadata": {},
     "output_type": "execute_result"
    }
   ],
   "source": [
    "#adding edges\n",
    "\n",
    "graph.add_edge(START,'COT')\n",
    "graph.add_edge(START,'Language')\n",
    "graph.add_edge(START,'Analysis')\n",
    "graph.add_edge('COT','Overall')\n",
    "graph.add_edge('Language','Overall')\n",
    "graph.add_edge('Analysis','Overall')\n",
    "\n",
    "graph.add_edge('COT','overaall')\n",
    "graph.add_edge('Language','overaall')\n",
    "graph.add_edge('Analysis','overaall')\n",
    "\n",
    "graph.add_edge('Overall',END)\n"
   ]
  },
  {
   "cell_type": "code",
   "execution_count": 14,
   "id": "d6a150a2",
   "metadata": {},
   "outputs": [
    {
     "data": {
      "image/png": "[encoded data removed]",
      "text/plain": [
       "<langgraph.graph.state.CompiledStateGraph object at 0x11dbf7040>"
      ]
     },
     "execution_count": 14,
     "metadata": {},
     "output_type": "execute_result"
    }
   ],
   "source": [
    "WORKFLOW=graph.compile()\n",
    "WORKFLOW"
   ]
  },
  {
   "cell_type": "code",
   "execution_count": 15,
   "id": "d1b884f0",
   "metadata": {},
   "outputs": [
    {
     "data": {
      "text/plain": [
       "{'clarity_of_thoughts_feedback': 'The essay demonstrates exceptional clarity of thought. The introduction effectively sets the stage, and the definition of AI is precise and easy to understand. The author skillfully presents both the positive economic impacts and the significant ethical and social concerns, providing clear examples and logical reasoning for each point. The flow from problem identification to proposed solutions (guidelines, education) is seamless and coherent. Each paragraph focuses on a distinct idea, contributing to a well-structured and highly readable argument. The language used is consistently clear, concise, and articulate, making the complex topic of AI accessible to the reader.',\n",
       " 'essay': 'Title: The Impact and Implications of Artificial Intelligence\\n\\nArtificial Intelligence (AI) is a rapidly evolving field that has the potential to transform every aspect of human life, from transportation and healthcare to education and entertainment. As we stand on the precipice of an AI revolution, it is essential to examine its impact and implications on society.\\n\\nAt its core, AI is the simulation of human intelligence processes by machines, especially computer systems. These processes include learning, reasoning, problem-solving, perception, and language understanding. With the help of AI, machines can perform tasks that typically require human intelligence, such as recognizing speech, making decisions, and solving complex problems.\\n\\nOne of the most significant impacts of AI is its potential to drive economic growth and productivity. According to a report by McKinsey Global Institute, AI could contribute up to $15.7 trillion to the global economy by 2030, equivalent to the combined output of China and India today. AI can help businesses automate routine tasks, optimize operations, and make better decisions, leading to significant cost savings and increased efficiency.\\n\\nHowever, the rise of AI also raises important ethical and social concerns. One of the most pressing issues is the potential for AI to exacerbate existing inequalities and create new ones. For instance, AI-powered algorithms have been found to perpetuate gender and racial biases, leading to discriminatory outcomes in areas such as hiring and lending. Moreover, the automation of jobs could lead to significant job losses, especially in low-skilled occupations, potentially increasing income inequality and social unrest.\\n\\nAnother concern is the lack of transparency and accountability in AI systems. As AI becomes more complex and autonomous, it becomes increasingly difficult to understand how decisions are made, leading to a \"black box\" problem. This lack of transparency raises concerns about the responsible use of AI, particularly in critical areas such as healthcare, finance, and criminal justice.\\n\\nTo address these concerns, it is essential to establish clear guidelines and regulations for the development and deployment of AI. Governments and international organizations should work together to create a framework that ensures the ethical and responsible use of AI, while also promoting innovation and economic growth.\\n\\nIn addition, there is a need for greater education and awareness about AI. While AI has the potential to create significant benefits, it also has the potential to cause harm if used irresponsibly. By educating the public about AI, we can help ensure that people are equipped to make informed decisions about its use and to mitigate its risks.\\n\\nIn conclusion, AI is a powerful technology that has the potential to transform our world in profound ways. While it offers significant opportunities for economic growth and productivity, it also poses important ethical and social challenges. To realize the full potential of AI, we must work together to establish clear guidelines and regulations, promote education and awareness, and ensure that its benefits are shared fairly among all members of society. With careful planning and collaboration, we can harness the power of AI to build a better future for all.',\n",
       " 'language_feedback': 'The essay demonstrates excellent command of language. The writing is clear, concise, and flows logically, making complex ideas accessible. The vocabulary is sophisticated yet appropriate for the topic, and sentence structures are varied, contributing to an engaging reading experience. There are no significant grammatical or syntactical errors, which enhances the overall professionalism and credibility of the essay. The arguments are presented with precision, enhancing the overall readability and impact.',\n",
       " 'analysis_feedback': \"The essay provides a comprehensive and well-structured overview of the impact and implications of Artificial Intelligence. It effectively covers both the economic benefits and the significant ethical and social challenges, such as inequality, bias, job displacement, and the 'black box' problem. The inclusion of potential solutions like regulations and education demonstrates a thoughtful and forward-looking perspective. The language is clear, concise, and professional, making the essay easy to follow and understand. The citation of the McKinsey report adds credibility to the economic impact claims.\",\n",
       " 'overall_feedback': 'The essay demonstrates an excellent command of language, with clear, concise, and professional writing that enhances the overall readability and impact. The language flows logically, making complex ideas accessible through sophisticated yet appropriate vocabulary and varied sentence structures. The essay provides a comprehensive and well-structured analysis of the impact and implications of Artificial Intelligence, effectively covering both the economic benefits and significant ethical and social challenges. The author skillfully presents clear examples and logical reasoning for each point, showing exceptional clarity of thought and a thoughtful perspective. The proposed solutions are well-integrated into the argument, and the language used is consistently clear, concise, and articulate, making the complex topic of AI accessible to the reader.',\n",
       " 'tips': [\"To further enhance the essay, consider adding more specific examples or brief elaborations on the types of guidelines and regulations needed for AI. For instance, mentioning data privacy laws or algorithmic transparency standards could provide more concrete suggestions. Additionally, while the essay covers economic and social impacts well, a brief acknowledgment of AI's broader applications in other sectors (e.g., healthcare, environmental science) could slightly broaden its scope, if space permits. A slightly more impactful or urgent concluding statement could also elevate the ending.\",\n",
       "  \"While the clarity is strong, minor enhancements could further enrich the essay:\\n- Specific Examples for Solutions: When discussing guidelines and regulations, mentioning a specific example of an existing framework (e.g., GDPR, EU AI Act proposals) or a type of regulatory body could add more weight and specificity.\\n- Nuance in Job Displacement: While job displacement is mentioned, briefly touching upon new job creation or the need for reskilling initiatives could provide a more balanced perspective on the future of work in an AI-driven economy.\\n- Depth in Ethical Concerns: While biases are mentioned, a brief example of how an AI system's bias could manifest in a real-world scenario (e.g., loan applications, predictive policing) could make the point even more impactful.\",\n",
       "  'While the language quality is already very high, consider occasionally varying sentence beginnings more to further enhance flow and avoid a slightly predictable structure. Additionally, explore opportunities to introduce more nuanced phrasing or rhetorical flair in certain sections to elevate the prose from excellent to truly outstanding, though this is a minor point given the current strong performance.',\n",
       "  'The overall essay is well-written, clear, and informative, providing a comprehensive overview of the need for guidelines and regulations in AI. To further enhance the essay and take it to the next level, I suggest:\\n\\n1. Incorporating more specific examples of existing frameworks, regulatory bodies, and real-world scenarios, as this will add weight and credibility to your arguments. Mentioning specific laws (e.g., GDPR, EU AI Act proposals) and real-world examples of AI bias will make your points more relatable and impactful.\\n2. Expanding the discussion on job displacement to include the creation of new jobs and the importance of reskilling initiatives. This will provide a more balanced perspective on the future of work in an AI-driven economy.\\n3. Injecting more nuanced phrasing, rhetorical flair, and varied sentence structures throughout the essay. While the language quality is already high, exploring opportunities to elevate the prose will help distinguish your essay from good to great.\\n\\nSolid tip: To create a truly outstanding essay, focus on incorporating more specific examples, addressing various aspects of job displacement, and refining the language to convey your ideas with precision, impact, and elegance.'],\n",
       " 'score': [8, 9, 9]}"
      ]
     },
     "execution_count": 15,
     "metadata": {},
     "output_type": "execute_result"
    }
   ],
   "source": [
    "initial_state={\"essay\":essay}\n",
    "WORKFLOW.invoke(initial_state)"
   ]
  },
  {
   "cell_type": "code",
   "execution_count": null,
   "id": "e3f80d0b",
   "metadata": {},
   "outputs": [],
   "source": []
  }
 ],
 "metadata": {
  "kernelspec": {
   "display_name": "myenv",
   "language": "python",
   "name": "python3"
  },
  "language_info": {
   "codemirror_mode": {
    "name": "ipython",
    "version": 3
   },
   "file_extension": ".py",
   "mimetype": "text/x-python",
   "name": "python",
   "nbconvert_exporter": "python",
   "pygments_lexer": "ipython3",
   "version": "3.10.18"
  }
 },
 "nbformat": 4,
 "nbformat_minor": 5
}
