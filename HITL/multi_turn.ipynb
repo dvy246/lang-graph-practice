{
 "cells": [
  {
   "cell_type": "code",
   "execution_count": null,
   "id": "2ad20d65",
   "metadata": {},
   "outputs": [
    {
     "data": {
      "text/plain": [
       "True"
      ]
     },
     "execution_count": 1,
     "metadata": {},
     "output_type": "execute_result"
    }
   ],
   "source": [
    "from langgraph.graph import StateGraph, START, END, add_messages\n",
    "from langgraph.types import Command, Interrupt\n",
    "from langgraph.prebuilt import ToolNode,tools_condition,create_react_agent\n",
    "from typing import TypedDict, Annotated, List\n",
    "from langgraph.checkpoint.memory import MemorySaver\n",
    "from langchain_google_genai import ChatGoogleGenerativeAI\n",
    "from langchain_core.messages import HumanMessage, SystemMessage, AIMessage\n",
    "import uuid\n",
    "import os\n",
    "from dotenv import load_dotenv\n",
    "load_dotenv()\n"
   ]
  },
  {
   "cell_type": "code",
   "execution_count": 2,
   "id": "ba2fe49f",
   "metadata": {},
   "outputs": [],
   "source": [
    "check=MemorySaver()"
   ]
  },
  {
   "cell_type": "code",
   "execution_count": 3,
   "id": "cd9f4e46",
   "metadata": {},
   "outputs": [],
   "source": [
    "model=ChatGoogleGenerativeAI(api_key=os.getenv('google'),model='gemini-2.5-flash')"
   ]
  },
  {
   "cell_type": "code",
   "execution_count": 4,
   "id": "b79672d2",
   "metadata": {},
   "outputs": [],
   "source": [
    "class lINKDIN(TypedDict):\n",
    "    topic:str\n",
    "    post:Annotated[list[str],add_messages]\n",
    "    feedback:Annotated[list[str],add_messages]"
   ]
  },
  {
   "cell_type": "code",
   "execution_count": 5,
   "id": "7ec85b97",
   "metadata": {},
   "outputs": [],
   "source": [
    "graph=StateGraph(lINKDIN)"
   ]
  },
  {
   "cell_type": "code",
   "execution_count": 6,
   "id": "072e0d99",
   "metadata": {},
   "outputs": [],
   "source": [
    "def generate_post(state:lINKDIN)->lINKDIN['post']:\n",
    "    topic=state['topic']\n",
    "    feedback=state['feedback'] if 'human_feedback' in state['feedback'] else ['no_feedback_yet']\n",
    "\n",
    "    prompt=[SystemMessage(content='you are a professional linkdin post creator'),\n",
    "            HumanMessage(content=f\"\"\"LinkedIn Topic: {topic}\n",
    "         Human Feedback: {feedback[-1] if feedback else \"No feedback yet\"}\n",
    "        Generate a structured and well-written LinkedIn post based on the given topic.\n",
    "         Consider previous human feedback to refine the reponse.\"\"\")\n",
    "    ]\n",
    "    content=model.invoke(prompt).content\n",
    "    \n",
    "    print(f\"the generated post is {content}\")\n",
    "\n",
    "    return {'post':content,'feedback':feedback}"
   ]
  },
  {
   "cell_type": "code",
   "execution_count": 7,
   "id": "4e66eba1",
   "metadata": {},
   "outputs": [],
   "source": [
    "def human(state:lINKDIN)->lINKDIN['feedback']:\n",
    "     generated_post = state[\"post\"]\n",
    "\n",
    "     human_input=Interrupt(f\"Please provide your feedback on the generated LinkedIn post:{generated_post}\")\n",
    "\n",
    "     print(f\"[human_node] Received human feedback: {human_input}\")\n",
    "\n",
    "     if human_input=='dpne':\n",
    "          return Command(update={\"feedback\": state[\"feedback\"] + [\"Finalised\"]}, goto=\"end_node\")\n",
    "\n",
    "     return Command(update={'feedback': state[\"feedback\"] + [human_input]}, goto=\"generate_post_\")"
   ]
  },
  {
   "cell_type": "code",
   "execution_count": 8,
   "id": "0242782c",
   "metadata": {},
   "outputs": [],
   "source": [
    "\n",
    "def end_node(state: lINKDIN): \n",
    "    \"\"\" Final node \"\"\"\n",
    "    print(\"\\n[end_node] Process finished\")\n",
    "    print(\"Final Generated Post:\", state[\"post\"][-1])\n",
    "    print(\"Final Human Feedback\", state[\"feedback\"])\n",
    "    return {\"generated_post\": state[\"post\"], \"human_feedback\": state[\"feedback\"]}"
   ]
  },
  {
   "cell_type": "code",
   "execution_count": 9,
   "id": "36ab6cd6",
   "metadata": {},
   "outputs": [
    {
     "data": {
      "text/plain": [
       "<langgraph.graph.state.StateGraph at 0x127884dc0>"
      ]
     },
     "execution_count": 9,
     "metadata": {},
     "output_type": "execute_result"
    }
   ],
   "source": [
    "graph.add_node(\"generate_post\", generate_post)\n",
    "graph.add_node(\"human\", human) \n",
    "graph.add_node(\"end_node\", end_node)\n",
    "graph.set_entry_point ('generate_post')"
   ]
  },
  {
   "cell_type": "code",
   "execution_count": 10,
   "id": "2f921d35",
   "metadata": {},
   "outputs": [
    {
     "data": {
      "image/png": "[encoded data removed]",
      "text/plain": [
       "<langgraph.graph.state.CompiledStateGraph object at 0x127884eb0>"
      ]
     },
     "execution_count": 10,
     "metadata": {},
     "output_type": "execute_result"
    }
   ],
   "source": [
    "graph.add_edge(START,\"generate_post\")\n",
    "graph.add_edge('generate_post','human')\n",
    "graph.set_finish_point('end_node')\n",
    "\n",
    "worflow=graph.compile(checkpointer=check)\n",
    "\n",
    "worflow"
   ]
  },
  {
   "cell_type": "code",
   "execution_count": 11,
   "id": "3ffd6752",
   "metadata": {},
   "outputs": [],
   "source": [
    "thread_config = {\"configurable\": {\n",
    "    \"thread_id\": uuid.uuid4()\n",
    "}}\n",
    "\n",
    "linkedin_topic = input(\"Enter your LinkedIn topic: \")\n",
    "initial_state = {\n",
    "    \"topic\": linkedin_topic, \n",
    "    \"post\": [], \n",
    "    \"feedback\": []\n",
    "}"
   ]
  },
  {
   "cell_type": "code",
   "execution_count": 12,
   "id": "4019612c",
   "metadata": {},
   "outputs": [
    {
     "name": "stderr",
     "output_type": "stream",
     "text": [
      "Task human with path ('__pregel_pull', 'human') wrote to unknown channel branch:to:generate_post_, ignoring it.\n"
     ]
    },
    {
     "name": "stdout",
     "output_type": "stream",
     "text": [
      "the generated post is Here's a structured and engaging LinkedIn post about AI:\n",
      "\n",
      "---\n",
      "\n",
      "🚀 **AI isn't just a buzzword anymore; it's the engine driving unprecedented transformation across every industry.**\n",
      "\n",
      "From automating routine tasks to powering groundbreaking research and personalizing customer experiences, the pace of innovation in Artificial Intelligence is staggering. It's no longer a question of *if* AI will impact your role, but *how* you'll leverage it.\n",
      "\n",
      "For professionals and businesses, this shift presents both immense opportunities and new challenges:\n",
      "\n",
      "*   **Opportunity:** AI amplifies human potential, freeing us to focus on higher-value, creative, and strategic tasks. It unlocks efficiencies, drives data-driven insights, and enables innovation at scale.\n",
      "*   **Challenge:** The need for continuous learning, ethical considerations, and adapting to new ways of working is paramount. Understanding AI's capabilities and limitations is crucial for navigating this evolving landscape.\n",
      "\n",
      "The future isn't about AI replacing humans, but about AI *augmenting* human capabilities. It's about equipping ourselves with the knowledge and skills to collaborate with these powerful tools.\n",
      "\n",
      "**How is AI impacting your industry or role specifically? What's one AI application you're most excited or concerned about?**\n",
      "\n",
      "Share your thoughts below! Let's discuss how we can collectively navigate and thrive in this AI-driven era.\n",
      "\n",
      "#AI #ArtificialIntelligence #FutureOfWork #DigitalTransformation #Innovation #TechTrends #MachineLearning\n",
      "[human_node] Received human feedback: Interrupt(value='Please provide your feedback on the generated LinkedIn post:[HumanMessage(content=\"Here\\'s a structured and engaging LinkedIn post about AI:\\\\n\\\\n---\\\\n\\\\n🚀 **AI isn\\'t just a buzzword anymore; it\\'s the engine driving unprecedented transformation across every industry.**\\\\n\\\\nFrom automating routine tasks to powering groundbreaking research and personalizing customer experiences, the pace of innovation in Artificial Intelligence is staggering. It\\'s no longer a question of *if* AI will impact your role, but *how* you\\'ll leverage it.\\\\n\\\\nFor professionals and businesses, this shift presents both immense opportunities and new challenges:\\\\n\\\\n*   **Opportunity:** AI amplifies human potential, freeing us to focus on higher-value, creative, and strategic tasks. It unlocks efficiencies, drives data-driven insights, and enables innovation at scale.\\\\n*   **Challenge:** The need for continuous learning, ethical considerations, and adapting to new ways of working is paramount. Understanding AI\\'s capabilities and limitations is crucial for navigating this evolving landscape.\\\\n\\\\nThe future isn\\'t about AI replacing humans, but about AI *augmenting* human capabilities. It\\'s about equipping ourselves with the knowledge and skills to collaborate with these powerful tools.\\\\n\\\\n**How is AI impacting your industry or role specifically? What\\'s one AI application you\\'re most excited or concerned about?**\\\\n\\\\nShare your thoughts below! Let\\'s discuss how we can collectively navigate and thrive in this AI-driven era.\\\\n\\\\n#AI #ArtificialIntelligence #FutureOfWork #DigitalTransformation #Innovation #TechTrends #MachineLearning\", additional_kwargs={}, response_metadata={}, id=\\'6cbb60dd-c605-49c4-b1be-2d007d69beca\\')]', id='placeholder-id')\n"
     ]
    },
    {
     "ename": "NotImplementedError",
     "evalue": "Unsupported message type: <class 'langgraph.types.Interrupt'>\nFor troubleshooting, visit: https://python.langchain.com/docs/troubleshooting/errors/MESSAGE_COERCION_FAILURE ",
     "output_type": "error",
     "traceback": [
      "\u001b[0;31m---------------------------------------------------------------------------\u001b[0m",
      "\u001b[0;31mNotImplementedError\u001b[0m                       Traceback (most recent call last)",
      "Cell \u001b[0;32mIn[12], line 1\u001b[0m\n\u001b[0;32m----> 1\u001b[0m \u001b[38;5;28;01mfor\u001b[39;00m chunk \u001b[38;5;129;01min\u001b[39;00m worflow\u001b[38;5;241m.\u001b[39mstream(initial_state, thread_config, stream_mode\u001b[38;5;241m=\u001b[39m\u001b[38;5;124m\"\u001b[39m\u001b[38;5;124mvalues\u001b[39m\u001b[38;5;124m\"\u001b[39m):\n\u001b[1;32m      2\u001b[0m     \u001b[38;5;28;01mfor\u001b[39;00m nodeid,values \u001b[38;5;129;01min\u001b[39;00m chunk\u001b[38;5;241m.\u001b[39mitems():\n\u001b[1;32m      4\u001b[0m         \u001b[38;5;28;01mif\u001b[39;00m (nodeid\u001b[38;5;241m==\u001b[39m\u001b[38;5;124m'\u001b[39m\u001b[38;5;124m__interrupt__\u001b[39m\u001b[38;5;124m'\u001b[39m):\n",
      "File \u001b[0;32m~/miniforge3/envs/myenv/lib/python3.10/site-packages/langgraph/pregel/main.py:2657\u001b[0m, in \u001b[0;36mPregel.stream\u001b[0;34m(self, input, config, context, stream_mode, print_mode, output_keys, interrupt_before, interrupt_after, durability, subgraphs, debug, **kwargs)\u001b[0m\n\u001b[1;32m   2647\u001b[0m \u001b[38;5;28;01mfor\u001b[39;00m _ \u001b[38;5;129;01min\u001b[39;00m runner\u001b[38;5;241m.\u001b[39mtick(\n\u001b[1;32m   2648\u001b[0m     [t \u001b[38;5;28;01mfor\u001b[39;00m t \u001b[38;5;129;01min\u001b[39;00m loop\u001b[38;5;241m.\u001b[39mtasks\u001b[38;5;241m.\u001b[39mvalues() \u001b[38;5;28;01mif\u001b[39;00m \u001b[38;5;129;01mnot\u001b[39;00m t\u001b[38;5;241m.\u001b[39mwrites],\n\u001b[1;32m   2649\u001b[0m     timeout\u001b[38;5;241m=\u001b[39m\u001b[38;5;28mself\u001b[39m\u001b[38;5;241m.\u001b[39mstep_timeout,\n\u001b[0;32m   (...)\u001b[0m\n\u001b[1;32m   2652\u001b[0m ):\n\u001b[1;32m   2653\u001b[0m     \u001b[38;5;66;03m# emit output\u001b[39;00m\n\u001b[1;32m   2654\u001b[0m     \u001b[38;5;28;01myield from\u001b[39;00m _output(\n\u001b[1;32m   2655\u001b[0m         stream_mode, print_mode, subgraphs, stream\u001b[38;5;241m.\u001b[39mget, queue\u001b[38;5;241m.\u001b[39mEmpty\n\u001b[1;32m   2656\u001b[0m     )\n\u001b[0;32m-> 2657\u001b[0m \u001b[43mloop\u001b[49m\u001b[38;5;241;43m.\u001b[39;49m\u001b[43mafter_tick\u001b[49m\u001b[43m(\u001b[49m\u001b[43m)\u001b[49m\n\u001b[1;32m   2658\u001b[0m \u001b[38;5;66;03m# wait for checkpoint\u001b[39;00m\n\u001b[1;32m   2659\u001b[0m \u001b[38;5;28;01mif\u001b[39;00m durability_ \u001b[38;5;241m==\u001b[39m \u001b[38;5;124m\"\u001b[39m\u001b[38;5;124msync\u001b[39m\u001b[38;5;124m\"\u001b[39m:\n",
      "File \u001b[0;32m~/miniforge3/envs/myenv/lib/python3.10/site-packages/langgraph/pregel/_loop.py:525\u001b[0m, in \u001b[0;36mPregelLoop.after_tick\u001b[0;34m(self)\u001b[0m\n\u001b[1;32m    523\u001b[0m writes \u001b[38;5;241m=\u001b[39m [w \u001b[38;5;28;01mfor\u001b[39;00m t \u001b[38;5;129;01min\u001b[39;00m \u001b[38;5;28mself\u001b[39m\u001b[38;5;241m.\u001b[39mtasks\u001b[38;5;241m.\u001b[39mvalues() \u001b[38;5;28;01mfor\u001b[39;00m w \u001b[38;5;129;01min\u001b[39;00m t\u001b[38;5;241m.\u001b[39mwrites]\n\u001b[1;32m    524\u001b[0m \u001b[38;5;66;03m# all tasks have finished\u001b[39;00m\n\u001b[0;32m--> 525\u001b[0m \u001b[38;5;28mself\u001b[39m\u001b[38;5;241m.\u001b[39mupdated_channels \u001b[38;5;241m=\u001b[39m \u001b[43mapply_writes\u001b[49m\u001b[43m(\u001b[49m\n\u001b[1;32m    526\u001b[0m \u001b[43m    \u001b[49m\u001b[38;5;28;43mself\u001b[39;49m\u001b[38;5;241;43m.\u001b[39;49m\u001b[43mcheckpoint\u001b[49m\u001b[43m,\u001b[49m\n\u001b[1;32m    527\u001b[0m \u001b[43m    \u001b[49m\u001b[38;5;28;43mself\u001b[39;49m\u001b[38;5;241;43m.\u001b[39;49m\u001b[43mchannels\u001b[49m\u001b[43m,\u001b[49m\n\u001b[1;32m    528\u001b[0m \u001b[43m    \u001b[49m\u001b[38;5;28;43mself\u001b[39;49m\u001b[38;5;241;43m.\u001b[39;49m\u001b[43mtasks\u001b[49m\u001b[38;5;241;43m.\u001b[39;49m\u001b[43mvalues\u001b[49m\u001b[43m(\u001b[49m\u001b[43m)\u001b[49m\u001b[43m,\u001b[49m\n\u001b[1;32m    529\u001b[0m \u001b[43m    \u001b[49m\u001b[38;5;28;43mself\u001b[39;49m\u001b[38;5;241;43m.\u001b[39;49m\u001b[43mcheckpointer_get_next_version\u001b[49m\u001b[43m,\u001b[49m\n\u001b[1;32m    530\u001b[0m \u001b[43m    \u001b[49m\u001b[38;5;28;43mself\u001b[39;49m\u001b[38;5;241;43m.\u001b[39;49m\u001b[43mtrigger_to_nodes\u001b[49m\u001b[43m,\u001b[49m\n\u001b[1;32m    531\u001b[0m \u001b[43m\u001b[49m\u001b[43m)\u001b[49m\n\u001b[1;32m    532\u001b[0m \u001b[38;5;66;03m# produce values output\u001b[39;00m\n\u001b[1;32m    533\u001b[0m \u001b[38;5;28;01mif\u001b[39;00m \u001b[38;5;129;01mnot\u001b[39;00m \u001b[38;5;28mself\u001b[39m\u001b[38;5;241m.\u001b[39mupdated_channels\u001b[38;5;241m.\u001b[39misdisjoint(\n\u001b[1;32m    534\u001b[0m     (\u001b[38;5;28mself\u001b[39m\u001b[38;5;241m.\u001b[39moutput_keys,)\n\u001b[1;32m    535\u001b[0m     \u001b[38;5;28;01mif\u001b[39;00m \u001b[38;5;28misinstance\u001b[39m(\u001b[38;5;28mself\u001b[39m\u001b[38;5;241m.\u001b[39moutput_keys, \u001b[38;5;28mstr\u001b[39m)\n\u001b[1;32m    536\u001b[0m     \u001b[38;5;28;01melse\u001b[39;00m \u001b[38;5;28mself\u001b[39m\u001b[38;5;241m.\u001b[39moutput_keys\n\u001b[1;32m    537\u001b[0m ):\n",
      "File \u001b[0;32m~/miniforge3/envs/myenv/lib/python3.10/site-packages/langgraph/pregel/_algo.py:298\u001b[0m, in \u001b[0;36mapply_writes\u001b[0;34m(checkpoint, channels, tasks, get_next_version, trigger_to_nodes)\u001b[0m\n\u001b[1;32m    296\u001b[0m \u001b[38;5;28;01mfor\u001b[39;00m chan, vals \u001b[38;5;129;01min\u001b[39;00m pending_writes_by_channel\u001b[38;5;241m.\u001b[39mitems():\n\u001b[1;32m    297\u001b[0m     \u001b[38;5;28;01mif\u001b[39;00m chan \u001b[38;5;129;01min\u001b[39;00m channels:\n\u001b[0;32m--> 298\u001b[0m         \u001b[38;5;28;01mif\u001b[39;00m \u001b[43mchannels\u001b[49m\u001b[43m[\u001b[49m\u001b[43mchan\u001b[49m\u001b[43m]\u001b[49m\u001b[38;5;241;43m.\u001b[39;49m\u001b[43mupdate\u001b[49m\u001b[43m(\u001b[49m\u001b[43mvals\u001b[49m\u001b[43m)\u001b[49m \u001b[38;5;129;01mand\u001b[39;00m next_version \u001b[38;5;129;01mis\u001b[39;00m \u001b[38;5;129;01mnot\u001b[39;00m \u001b[38;5;28;01mNone\u001b[39;00m:\n\u001b[1;32m    299\u001b[0m             checkpoint[\u001b[38;5;124m\"\u001b[39m\u001b[38;5;124mchannel_versions\u001b[39m\u001b[38;5;124m\"\u001b[39m][chan] \u001b[38;5;241m=\u001b[39m next_version\n\u001b[1;32m    300\u001b[0m             \u001b[38;5;66;03m# unavailable channels can't trigger tasks, so don't add them\u001b[39;00m\n",
      "File \u001b[0;32m~/miniforge3/envs/myenv/lib/python3.10/site-packages/langgraph/channels/binop.py:93\u001b[0m, in \u001b[0;36mBinaryOperatorAggregate.update\u001b[0;34m(self, values)\u001b[0m\n\u001b[1;32m     91\u001b[0m     values \u001b[38;5;241m=\u001b[39m values[\u001b[38;5;241m1\u001b[39m:]\n\u001b[1;32m     92\u001b[0m \u001b[38;5;28;01mfor\u001b[39;00m value \u001b[38;5;129;01min\u001b[39;00m values:\n\u001b[0;32m---> 93\u001b[0m     \u001b[38;5;28mself\u001b[39m\u001b[38;5;241m.\u001b[39mvalue \u001b[38;5;241m=\u001b[39m \u001b[38;5;28;43mself\u001b[39;49m\u001b[38;5;241;43m.\u001b[39;49m\u001b[43moperator\u001b[49m\u001b[43m(\u001b[49m\u001b[38;5;28;43mself\u001b[39;49m\u001b[38;5;241;43m.\u001b[39;49m\u001b[43mvalue\u001b[49m\u001b[43m,\u001b[49m\u001b[43m \u001b[49m\u001b[43mvalue\u001b[49m\u001b[43m)\u001b[49m\n\u001b[1;32m     94\u001b[0m \u001b[38;5;28;01mreturn\u001b[39;00m \u001b[38;5;28;01mTrue\u001b[39;00m\n",
      "File \u001b[0;32m~/miniforge3/envs/myenv/lib/python3.10/site-packages/langgraph/graph/message.py:47\u001b[0m, in \u001b[0;36m_add_messages_wrapper.<locals>._add_messages\u001b[0;34m(left, right, **kwargs)\u001b[0m\n\u001b[1;32m     43\u001b[0m \u001b[38;5;28;01mdef\u001b[39;00m\u001b[38;5;250m \u001b[39m\u001b[38;5;21m_add_messages\u001b[39m(\n\u001b[1;32m     44\u001b[0m     left: Messages \u001b[38;5;241m|\u001b[39m \u001b[38;5;28;01mNone\u001b[39;00m \u001b[38;5;241m=\u001b[39m \u001b[38;5;28;01mNone\u001b[39;00m, right: Messages \u001b[38;5;241m|\u001b[39m \u001b[38;5;28;01mNone\u001b[39;00m \u001b[38;5;241m=\u001b[39m \u001b[38;5;28;01mNone\u001b[39;00m, \u001b[38;5;241m*\u001b[39m\u001b[38;5;241m*\u001b[39mkwargs: Any\n\u001b[1;32m     45\u001b[0m ) \u001b[38;5;241m-\u001b[39m\u001b[38;5;241m>\u001b[39m Messages \u001b[38;5;241m|\u001b[39m Callable[[Messages, Messages], Messages]:\n\u001b[1;32m     46\u001b[0m     \u001b[38;5;28;01mif\u001b[39;00m left \u001b[38;5;129;01mis\u001b[39;00m \u001b[38;5;129;01mnot\u001b[39;00m \u001b[38;5;28;01mNone\u001b[39;00m \u001b[38;5;129;01mand\u001b[39;00m right \u001b[38;5;129;01mis\u001b[39;00m \u001b[38;5;129;01mnot\u001b[39;00m \u001b[38;5;28;01mNone\u001b[39;00m:\n\u001b[0;32m---> 47\u001b[0m         \u001b[38;5;28;01mreturn\u001b[39;00m \u001b[43mfunc\u001b[49m\u001b[43m(\u001b[49m\u001b[43mleft\u001b[49m\u001b[43m,\u001b[49m\u001b[43m \u001b[49m\u001b[43mright\u001b[49m\u001b[43m,\u001b[49m\u001b[43m \u001b[49m\u001b[38;5;241;43m*\u001b[39;49m\u001b[38;5;241;43m*\u001b[39;49m\u001b[43mkwargs\u001b[49m\u001b[43m)\u001b[49m\n\u001b[1;32m     48\u001b[0m     \u001b[38;5;28;01melif\u001b[39;00m left \u001b[38;5;129;01mis\u001b[39;00m \u001b[38;5;129;01mnot\u001b[39;00m \u001b[38;5;28;01mNone\u001b[39;00m \u001b[38;5;129;01mor\u001b[39;00m right \u001b[38;5;129;01mis\u001b[39;00m \u001b[38;5;129;01mnot\u001b[39;00m \u001b[38;5;28;01mNone\u001b[39;00m:\n\u001b[1;32m     49\u001b[0m         msg \u001b[38;5;241m=\u001b[39m (\n\u001b[1;32m     50\u001b[0m             \u001b[38;5;124mf\u001b[39m\u001b[38;5;124m\"\u001b[39m\u001b[38;5;124mMust specify non-null arguments for both \u001b[39m\u001b[38;5;124m'\u001b[39m\u001b[38;5;124mleft\u001b[39m\u001b[38;5;124m'\u001b[39m\u001b[38;5;124m and \u001b[39m\u001b[38;5;124m'\u001b[39m\u001b[38;5;124mright\u001b[39m\u001b[38;5;124m'\u001b[39m\u001b[38;5;124m. Only \u001b[39m\u001b[38;5;124m\"\u001b[39m\n\u001b[1;32m     51\u001b[0m             \u001b[38;5;124mf\u001b[39m\u001b[38;5;124m\"\u001b[39m\u001b[38;5;124mreceived: \u001b[39m\u001b[38;5;124m'\u001b[39m\u001b[38;5;132;01m{\u001b[39;00m\u001b[38;5;124m'\u001b[39m\u001b[38;5;124mleft\u001b[39m\u001b[38;5;124m'\u001b[39m\u001b[38;5;250m \u001b[39m\u001b[38;5;28;01mif\u001b[39;00m\u001b[38;5;250m \u001b[39mleft\u001b[38;5;250m \u001b[39m\u001b[38;5;28;01melse\u001b[39;00m\u001b[38;5;250m \u001b[39m\u001b[38;5;124m'\u001b[39m\u001b[38;5;124mright\u001b[39m\u001b[38;5;124m'\u001b[39m\u001b[38;5;132;01m}\u001b[39;00m\u001b[38;5;124m'\u001b[39m\u001b[38;5;124m.\u001b[39m\u001b[38;5;124m\"\u001b[39m\n\u001b[1;32m     52\u001b[0m         )\n",
      "File \u001b[0;32m~/miniforge3/envs/myenv/lib/python3.10/site-packages/langgraph/graph/message.py:190\u001b[0m, in \u001b[0;36madd_messages\u001b[0;34m(left, right, format)\u001b[0m\n\u001b[1;32m    183\u001b[0m \u001b[38;5;66;03m# coerce to message\u001b[39;00m\n\u001b[1;32m    184\u001b[0m left \u001b[38;5;241m=\u001b[39m [\n\u001b[1;32m    185\u001b[0m     message_chunk_to_message(cast(BaseMessageChunk, m))\n\u001b[1;32m    186\u001b[0m     \u001b[38;5;28;01mfor\u001b[39;00m m \u001b[38;5;129;01min\u001b[39;00m convert_to_messages(left)\n\u001b[1;32m    187\u001b[0m ]\n\u001b[1;32m    188\u001b[0m right \u001b[38;5;241m=\u001b[39m [\n\u001b[1;32m    189\u001b[0m     message_chunk_to_message(cast(BaseMessageChunk, m))\n\u001b[0;32m--> 190\u001b[0m     \u001b[38;5;28;01mfor\u001b[39;00m m \u001b[38;5;129;01min\u001b[39;00m \u001b[43mconvert_to_messages\u001b[49m\u001b[43m(\u001b[49m\u001b[43mright\u001b[49m\u001b[43m)\u001b[49m\n\u001b[1;32m    191\u001b[0m ]\n\u001b[1;32m    192\u001b[0m \u001b[38;5;66;03m# assign missing ids\u001b[39;00m\n\u001b[1;32m    193\u001b[0m \u001b[38;5;28;01mfor\u001b[39;00m m \u001b[38;5;129;01min\u001b[39;00m left:\n",
      "File \u001b[0;32m~/miniforge3/envs/myenv/lib/python3.10/site-packages/langchain_core/messages/utils.py:368\u001b[0m, in \u001b[0;36mconvert_to_messages\u001b[0;34m(messages)\u001b[0m\n\u001b[1;32m    366\u001b[0m \u001b[38;5;28;01mif\u001b[39;00m \u001b[38;5;28misinstance\u001b[39m(messages, PromptValue):\n\u001b[1;32m    367\u001b[0m     \u001b[38;5;28;01mreturn\u001b[39;00m messages\u001b[38;5;241m.\u001b[39mto_messages()\n\u001b[0;32m--> 368\u001b[0m \u001b[38;5;28;01mreturn\u001b[39;00m [_convert_to_message(m) \u001b[38;5;28;01mfor\u001b[39;00m m \u001b[38;5;129;01min\u001b[39;00m messages]\n",
      "File \u001b[0;32m~/miniforge3/envs/myenv/lib/python3.10/site-packages/langchain_core/messages/utils.py:368\u001b[0m, in \u001b[0;36m<listcomp>\u001b[0;34m(.0)\u001b[0m\n\u001b[1;32m    366\u001b[0m \u001b[38;5;28;01mif\u001b[39;00m \u001b[38;5;28misinstance\u001b[39m(messages, PromptValue):\n\u001b[1;32m    367\u001b[0m     \u001b[38;5;28;01mreturn\u001b[39;00m messages\u001b[38;5;241m.\u001b[39mto_messages()\n\u001b[0;32m--> 368\u001b[0m \u001b[38;5;28;01mreturn\u001b[39;00m [\u001b[43m_convert_to_message\u001b[49m\u001b[43m(\u001b[49m\u001b[43mm\u001b[49m\u001b[43m)\u001b[49m \u001b[38;5;28;01mfor\u001b[39;00m m \u001b[38;5;129;01min\u001b[39;00m messages]\n",
      "File \u001b[0;32m~/miniforge3/envs/myenv/lib/python3.10/site-packages/langchain_core/messages/utils.py:347\u001b[0m, in \u001b[0;36m_convert_to_message\u001b[0;34m(message)\u001b[0m\n\u001b[1;32m    345\u001b[0m     msg \u001b[38;5;241m=\u001b[39m \u001b[38;5;124mf\u001b[39m\u001b[38;5;124m\"\u001b[39m\u001b[38;5;124mUnsupported message type: \u001b[39m\u001b[38;5;132;01m{\u001b[39;00m\u001b[38;5;28mtype\u001b[39m(message)\u001b[38;5;132;01m}\u001b[39;00m\u001b[38;5;124m\"\u001b[39m\n\u001b[1;32m    346\u001b[0m     msg \u001b[38;5;241m=\u001b[39m create_message(message\u001b[38;5;241m=\u001b[39mmsg, error_code\u001b[38;5;241m=\u001b[39mErrorCode\u001b[38;5;241m.\u001b[39mMESSAGE_COERCION_FAILURE)\n\u001b[0;32m--> 347\u001b[0m     \u001b[38;5;28;01mraise\u001b[39;00m \u001b[38;5;167;01mNotImplementedError\u001b[39;00m(msg)\n\u001b[1;32m    349\u001b[0m \u001b[38;5;28;01mreturn\u001b[39;00m message_\n",
      "\u001b[0;31mNotImplementedError\u001b[0m: Unsupported message type: <class 'langgraph.types.Interrupt'>\nFor troubleshooting, visit: https://python.langchain.com/docs/troubleshooting/errors/MESSAGE_COERCION_FAILURE "
     ]
    }
   ],
   "source": [
    "for chunk in worflow.stream(initial_state, thread_config, stream_mode=\"values\"):\n",
    "    for nodeid,values in chunk.items():\n",
    "\n",
    "        if (nodeid=='__interrupt__'):\n",
    "            while True:\n",
    "                user_feedback = input(\"Provide feedback (or type 'done' when finished): \")\n",
    "\n",
    "                # Resume the graph execution with the user's feedback\n",
    "                worflow.invoke(Command(resume=user_feedback), config=thread_config)\n",
    "\n",
    "                # Exit loop if user says done\n",
    "                if user_feedback.lower() == \"done\":\n",
    "                    break\n"
   ]
  },
  {
   "cell_type": "code",
   "execution_count": null,
   "id": "5043331a",
   "metadata": {},
   "outputs": [],
   "source": []
  }
 ],
 "metadata": {
  "kernelspec": {
   "display_name": "myenv",
   "language": "python",
   "name": "python3"
  },
  "language_info": {
   "codemirror_mode": {
    "name": "ipython",
    "version": 3
   },
   "file_extension": ".py",
   "mimetype": "text/x-python",
   "name": "python",
   "nbconvert_exporter": "python",
   "pygments_lexer": "ipython3",
   "version": "3.10.18"
  }
 },
 "nbformat": 4,
 "nbformat_minor": 5
}
