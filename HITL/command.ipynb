{
 "cells": [
  {
   "cell_type": "code",
   "execution_count": 1,
   "id": "ae8bfe0c",
   "metadata": {},
   "outputs": [
    {
     "data": {
      "text/plain": [
       "True"
      ]
     },
     "execution_count": 1,
     "metadata": {},
     "output_type": "execute_result"
    }
   ],
   "source": [
    "from langgraph.graph import StateGraph,START,END\n",
    "from langgraph.graph.message import MessagesState,add_messages\n",
    "from langgraph.prebuilt import create_react_agent,InjectedState\n",
    "from langgraph_supervisor import create_supervisor,create_handoff_tool\n",
    "from langgraph_swarm import create_swarm\n",
    "from langchain_google_genai import ChatGoogleGenerativeAI\n",
    "from typing import TypedDict,Annotated\n",
    "from langgraph.types import Command,Interrupt\n",
    "from langchain_community.tools import TavilySearchResults\n",
    "from langchain_core.tools import tool\n",
    "from dotenv import load_dotenv\n",
    "from langgraph.checkpoint.memory import InMemorySaver\n",
    "import os\n",
    "load_dotenv()"
   ]
  },
  {
   "cell_type": "code",
   "execution_count": 2,
   "id": "8a75472c",
   "metadata": {},
   "outputs": [],
   "source": [
    "memry=InMemorySaver()"
   ]
  },
  {
   "cell_type": "code",
   "execution_count": 3,
   "id": "30cd5065",
   "metadata": {},
   "outputs": [],
   "source": [
    "def search(query:str):\n",
    "    '''the search tool'''\n",
    "    tool=TavilySearchResults(max_results=2)\n",
    "    tool.invoke(query)\n",
    "\n",
    "@tool\n",
    "def add(a: float, b: float) -> float:\n",
    "    \"\"\"Add two numbers.\"\"\"\n",
    "    return a + b\n",
    "@tool\n",
    "def multiply(a: float, b: float) -> float:\n",
    "    \"\"\"Multiply two numbers.\"\"\"\n",
    "    return a * b"
   ]
  },
  {
   "cell_type": "code",
   "execution_count": 4,
   "id": "73e20811",
   "metadata": {},
   "outputs": [],
   "source": [
    "model=ChatGoogleGenerativeAI(api_key=os.getenv('google'),model='gemini-2.5-flash')"
   ]
  },
  {
   "cell_type": "code",
   "execution_count": 8,
   "id": "976b6769",
   "metadata": {},
   "outputs": [],
   "source": [
    "math_agent=create_react_agent(\n",
    "    model=model,\n",
    "    tools=[add,multiply,transfer_to_search_agent],\n",
    "    name='math_agent',\n",
    "    prompt='you are a mathematician'\n",
    ")\n",
    "\n",
    "search_agent =create_react_agent(\n",
    "    model=model,\n",
    "    tools=[search,transfer_to_math_agent],\n",
    "    name=\"research_expert\",\n",
    "    prompt=\"You are a world class researcher with access to web search. Do not do any math.\"\n",
    ")"
   ]
  },
  {
   "cell_type": "code",
   "execution_count": 9,
   "id": "13cd5538",
   "metadata": {},
   "outputs": [],
   "source": [
    "swarm=create_swarm(\n",
    "    agents=[math_agent,search_agent],\n",
    "    default_active_agent='research_expert'\n",
    ")"
   ]
  },
  {
   "cell_type": "code",
   "execution_count": 10,
   "id": "bed73b2f",
   "metadata": {},
   "outputs": [],
   "source": [
    "swarm=swarm.compile(\n",
    ")"
   ]
  },
  {
   "cell_type": "code",
   "execution_count": 14,
   "id": "54a5ba29",
   "metadata": {},
   "outputs": [],
   "source": [
    "workflow=swarm.invoke(\n",
    "      {\n",
    "        \"messages\": [\n",
    "            {\n",
    "                \"role\": \"user\",\n",
    "                \"content\": \"what is 8 plus 9\"\n",
    "            }\n",
    "        ]\n",
    "    }\n",
    ")\n"
   ]
  },
  {
   "cell_type": "code",
   "execution_count": 15,
   "id": "e78391ac",
   "metadata": {},
   "outputs": [
    {
     "name": "stdout",
     "output_type": "stream",
     "text": [
      "================================\u001b[1m Human Message \u001b[0m=================================\n",
      "\n",
      "what is 8 plus 9\n",
      "==================================\u001b[1m Ai Message \u001b[0m==================================\n",
      "Name: research_expert\n",
      "Tool Calls:\n",
      "  transfer_to_math_agent (0a03c47c-15b4-47af-b7b0-a80421311192)\n",
      " Call ID: 0a03c47c-15b4-47af-b7b0-a80421311192\n",
      "  Args:\n",
      "=================================\u001b[1m Tool Message \u001b[0m=================================\n",
      "Name: transfer_to_math_agent\n",
      "\n",
      "Successfully transferred to math_agent\n",
      "==================================\u001b[1m Ai Message \u001b[0m==================================\n",
      "Name: math_agent\n",
      "Tool Calls:\n",
      "  add (4739db6b-7c12-418d-b2ee-a9aee9eb699e)\n",
      " Call ID: 4739db6b-7c12-418d-b2ee-a9aee9eb699e\n",
      "  Args:\n",
      "    b: 9.0\n",
      "    a: 8.0\n",
      "=================================\u001b[1m Tool Message \u001b[0m=================================\n",
      "Name: add\n",
      "\n",
      "17.0\n",
      "==================================\u001b[1m Ai Message \u001b[0m==================================\n",
      "Name: math_agent\n",
      "\n",
      "8 plus 9 is 17.\n"
     ]
    }
   ],
   "source": [
    "for i in workflow['messages']:\n",
    "    i.pretty_print()"
   ]
  },
  {
   "cell_type": "code",
   "execution_count": null,
   "id": "66e94b02",
   "metadata": {},
   "outputs": [],
   "source": [
    "workflow=create_supervisor(\n",
    "    agents=[math_agent,search_agent],\n",
    "    model=model,\n",
    "    prompt=(\n",
    "        \"You are a team supervisor managing a research expert and a math expert. \"\n",
    "        \"For current events, use research_agent. \"\n",
    "        \"For math problems, use math_agent.\"\n",
    "    )\n",
    "\n",
    ")"
   ]
  },
  {
   "cell_type": "code",
   "execution_count": null,
   "id": "cf797e92",
   "metadata": {},
   "outputs": [],
   "source": [
    "app=workflow.compile(checkpointer=memry)"
   ]
  },
  {
   "cell_type": "code",
   "execution_count": null,
   "id": "afbf9be7",
   "metadata": {},
   "outputs": [],
   "source": [
    "config={'configurable':{'thread_id':'1'}}"
   ]
  },
  {
   "cell_type": "code",
   "execution_count": null,
   "id": "e202fb31",
   "metadata": {},
   "outputs": [
    {
     "name": "stderr",
     "output_type": "stream",
     "text": [
      "/var/folders/kh/4f4bk94j1d36fl9w_7g2nhdm0000gn/T/ipykernel_30210/3361027083.py:3: LangChainDeprecationWarning: The class `TavilySearchResults` was deprecated in LangChain 0.3.25 and will be removed in 1.0. An updated version of the class exists in the :class:`~langchain-tavily package and should be used instead. To use it run `pip install -U :class:`~langchain-tavily` and import as `from :class:`~langchain_tavily import TavilySearch``.\n",
      "  tool=TavilySearchResults(max_results=2)\n",
      "Retrying langchain_google_genai.chat_models._chat_with_retry.<locals>._chat_with_retry in 2.0 seconds as it raised InternalServerError: 500 An internal error has occurred. Please retry or report in https://developers.generativeai.google/guide/troubleshooting.\n"
     ]
    }
   ],
   "source": [
    "result=app.invoke({\n",
    "    \"messages\": [\n",
    "        {\n",
    "            \"role\": \"user\",\n",
    "            \"content\": \"what is quantum computing?\"\n",
    "        }\n",
    "    ]},config=config\n",
    ")"
   ]
  },
  {
   "cell_type": "code",
   "execution_count": null,
   "id": "0239d6cd",
   "metadata": {},
   "outputs": [
    {
     "name": "stdout",
     "output_type": "stream",
     "text": [
      "================================\u001b[1m Human Message \u001b[0m=================================\n",
      "\n",
      "what is quantum computing?\n",
      "==================================\u001b[1m Ai Message \u001b[0m==================================\n",
      "Name: supervisor\n",
      "Tool Calls:\n",
      "  transfer_to_research_expert (82638533-1658-4f35-837e-f27404b1221a)\n",
      " Call ID: 82638533-1658-4f35-837e-f27404b1221a\n",
      "  Args:\n",
      "=================================\u001b[1m Tool Message \u001b[0m=================================\n",
      "Name: transfer_to_research_expert\n",
      "\n",
      "Successfully transferred to research_expert\n",
      "==================================\u001b[1m Ai Message \u001b[0m==================================\n",
      "Name: research_expert\n",
      "\n",
      "Quantum computing is a new type of computing that uses the principles of quantum mechanics to solve complex problems that are beyond the capabilities of classical computers. Unlike classical computers that store information as bits (0s or 1s), quantum computers use \"qubits\" which can represent 0, 1, or both simultaneously through a phenomenon called superposition. This allows them to process and store vastly more information.\n",
      "\n",
      "Another key quantum phenomenon is entanglement, where qubits become linked and share the same fate, even when separated. This interconnectedness further enhances their processing power. By leveraging superposition and entanglement, quantum computers can explore many possibilities simultaneously, making them potentially much faster at certain types of problems, such as drug discovery, materials science, financial modeling, and breaking certain types of encryption.\n",
      "==================================\u001b[1m Ai Message \u001b[0m==================================\n",
      "Name: research_expert\n",
      "\n",
      "Transferring back to supervisor\n",
      "Tool Calls:\n",
      "  transfer_back_to_supervisor (928263f2-f116-4d87-918d-ddcbe3e293ae)\n",
      " Call ID: 928263f2-f116-4d87-918d-ddcbe3e293ae\n",
      "  Args:\n",
      "=================================\u001b[1m Tool Message \u001b[0m=================================\n",
      "Name: transfer_back_to_supervisor\n",
      "\n",
      "Successfully transferred back to supervisor\n",
      "==================================\u001b[1m Ai Message \u001b[0m==================================\n",
      "Name: supervisor\n",
      "\n",
      "Quantum computing is a new type of computing that uses the principles of quantum mechanics to solve complex problems that are beyond the capabilities of classical computers. Unlike classical computers that store information as bits (0s or 1s), quantum computers use \"qubits\" which can represent 0, 1, or both simultaneously through a phenomenon called superposition. This allows them to process and store vastly more information.\n",
      "\n",
      "Another key quantum phenomenon is entanglement, where qubits become linked and share the same fate, even when separated. This interconnectedness further enhances their processing power. By leveraging superposition and entanglement, quantum computers can explore many possibilities simultaneously, making them potentially much faster at certain types of problems, such as drug discovery, materials science, financial modeling, and breaking certain types of encryption.\n"
     ]
    }
   ],
   "source": [
    "for r in result['messages']:\n",
    "    r.pretty_print()"
   ]
  },
  {
   "cell_type": "code",
   "execution_count": null,
   "id": "23d66cb5",
   "metadata": {},
   "outputs": [
    {
     "data": {
      "text/plain": [
       "{'messages': [HumanMessage(content='what is quantum computing?', additional_kwargs={}, response_metadata={}, id='f37170f7-c5ef-4d97-aa8d-73ec43274912'),\n",
       "  AIMessage(content='', additional_kwargs={'function_call': {'name': 'transfer_to_research_expert', 'arguments': '{}'}}, response_metadata={'prompt_feedback': {'block_reason': 0, 'safety_ratings': []}, 'finish_reason': 'STOP', 'model_name': 'gemini-2.5-flash', 'safety_ratings': []}, name='supervisor', id='run--c49a4e29-d5e0-4f4d-aba6-bba59335b22f-0', tool_calls=[{'name': 'transfer_to_research_expert', 'args': {}, 'id': '82638533-1658-4f35-837e-f27404b1221a', 'type': 'tool_call'}], usage_metadata={'input_tokens': 106, 'output_tokens': 59, 'total_tokens': 165, 'input_token_details': {'cache_read': 0}, 'output_token_details': {'reasoning': 45}}),\n",
       "  ToolMessage(content='Successfully transferred to research_expert', name='transfer_to_research_expert', id='81a3df61-4b23-46a8-b395-1c733895bca9', tool_call_id='82638533-1658-4f35-837e-f27404b1221a'),\n",
       "  AIMessage(content='Quantum computing is a new type of computing that uses the principles of quantum mechanics to solve complex problems that are beyond the capabilities of classical computers. Unlike classical computers that store information as bits (0s or 1s), quantum computers use \"qubits\" which can represent 0, 1, or both simultaneously through a phenomenon called superposition. This allows them to process and store vastly more information.\\n\\nAnother key quantum phenomenon is entanglement, where qubits become linked and share the same fate, even when separated. This interconnectedness further enhances their processing power. By leveraging superposition and entanglement, quantum computers can explore many possibilities simultaneously, making them potentially much faster at certain types of problems, such as drug discovery, materials science, financial modeling, and breaking certain types of encryption.', additional_kwargs={}, response_metadata={'prompt_feedback': {'block_reason': 0, 'safety_ratings': []}, 'finish_reason': 'STOP', 'model_name': 'gemini-2.5-flash', 'safety_ratings': []}, name='research_expert', id='run--c7558bb2-6148-4d8c-a2b5-e8ce30c45260-0', usage_metadata={'input_tokens': 151, 'output_tokens': 192, 'total_tokens': 343, 'input_token_details': {'cache_read': 0}, 'output_token_details': {'reasoning': 38}}),\n",
       "  AIMessage(content='Transferring back to supervisor', additional_kwargs={}, response_metadata={'__is_handoff_back': True}, name='research_expert', id='c7aade31-a34b-4e99-a39a-df511103e17b', tool_calls=[{'name': 'transfer_back_to_supervisor', 'args': {}, 'id': '928263f2-f116-4d87-918d-ddcbe3e293ae', 'type': 'tool_call'}]),\n",
       "  ToolMessage(content='Successfully transferred back to supervisor', name='transfer_back_to_supervisor', id='ff3974fd-e8a6-42a3-9338-c831b7985051', tool_call_id='928263f2-f116-4d87-918d-ddcbe3e293ae'),\n",
       "  AIMessage(content='Quantum computing is a new type of computing that uses the principles of quantum mechanics to solve complex problems that are beyond the capabilities of classical computers. Unlike classical computers that store information as bits (0s or 1s), quantum computers use \"qubits\" which can represent 0, 1, or both simultaneously through a phenomenon called superposition. This allows them to process and store vastly more information.\\n\\nAnother key quantum phenomenon is entanglement, where qubits become linked and share the same fate, even when separated. This interconnectedness further enhances their processing power. By leveraging superposition and entanglement, quantum computers can explore many possibilities simultaneously, making them potentially much faster at certain types of problems, such as drug discovery, materials science, financial modeling, and breaking certain types of encryption.', additional_kwargs={}, response_metadata={'prompt_feedback': {'block_reason': 0, 'safety_ratings': []}, 'finish_reason': 'STOP', 'model_name': 'gemini-2.5-flash', 'safety_ratings': []}, name='supervisor', id='run--f68f29c4-46c0-4d1a-b7ed-7bd7be146afb-0', usage_metadata={'input_tokens': 336, 'output_tokens': 245, 'total_tokens': 581, 'input_token_details': {'cache_read': 0}, 'output_token_details': {'reasoning': 91}})]}"
      ]
     },
     "execution_count": 12,
     "metadata": {},
     "output_type": "execute_result"
    }
   ],
   "source": [
    "result"
   ]
  },
  {
   "cell_type": "code",
   "execution_count": null,
   "id": "afe87fb4",
   "metadata": {},
   "outputs": [],
   "source": [
    "transfer_to_math_agent=create_handoff_tool(\n",
    "    agent_name='math_agent',\n",
    "    description='handoff to math agent for math problems',\n",
    ")\n",
    "\n",
    "transfer_to_search_agent=create_handoff_tool(\n",
    "    agent_name='research_expert',\n",
    "    description='handoff to search agent for current events'\n",
    ")"
   ]
  },
  {
   "cell_type": "code",
   "execution_count": null,
   "id": "a93a0d50",
   "metadata": {},
   "outputs": [],
   "source": []
  }
 ],
 "metadata": {
  "kernelspec": {
   "display_name": "myenv",
   "language": "python",
   "name": "python3"
  },
  "language_info": {
   "codemirror_mode": {
    "name": "ipython",
    "version": 3
   },
   "file_extension": ".py",
   "mimetype": "text/x-python",
   "name": "python",
   "nbconvert_exporter": "python",
   "pygments_lexer": "ipython3",
   "version": "3.10.18"
  }
 },
 "nbformat": 4,
 "nbformat_minor": 5
}
