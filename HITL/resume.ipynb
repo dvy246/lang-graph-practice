{
 "cells": [
  {
   "cell_type": "code",
   "execution_count": 1,
   "id": "f35e540e",
   "metadata": {},
   "outputs": [],
   "source": [
    "from langgraph.graph import StateGraph, START, END\n",
    "from langgraph.types import Command, interrupt\n",
    "from typing import TypedDict\n",
    "from langgraph.checkpoint.memory import MemorySaver\n",
    "from dotenv import load_dotenv"
   ]
  },
  {
   "cell_type": "code",
   "execution_count": 2,
   "id": "370dc1f1",
   "metadata": {},
   "outputs": [
    {
     "name": "stdout",
     "output_type": "stream",
     "text": [
      "Node A\n",
      "Node B\n"
     ]
    },
    {
     "data": {
      "text/plain": [
       "[{'node_a': {'value': 'a'}},\n",
       " {'__interrupt__': (Interrupt(value='would u like to go to c or d', id='b1bfa2ec0a75dbbe50de3da33a772c11'),)}]"
      ]
     },
     "execution_count": 2,
     "metadata": {},
     "output_type": "execute_result"
    }
   ],
   "source": [
    "\n",
    "memory = MemorySaver()\n",
    "\n",
    "class State(TypedDict):\n",
    "    value: str\n",
    "\n",
    "def node_a(state: State): \n",
    "    print(\"Node A\")\n",
    "    return Command(\n",
    "        goto=\"node_b\", \n",
    "        update={\n",
    "            \"value\": state[\"value\"] + \"a\"\n",
    "        }\n",
    "    )\n",
    "\n",
    "def node_b(state: State): \n",
    "    print(\"Node B\")\n",
    "\n",
    "    human_response = interrupt('would u like to go to c or d')\n",
    "\n",
    "    print(\"Human Review Values: \", human_response)\n",
    "    \n",
    "    if(human_response == \"C\"): \n",
    "        return Command(\n",
    "            goto=\"node_c\", \n",
    "            update={\n",
    "                \"value\": state[\"value\"] + \"b\"\n",
    "            }\n",
    "        ) \n",
    "    elif(human_response == \"D\"): \n",
    "        return Command(\n",
    "            goto=\"node_d\", \n",
    "            update={\n",
    "                \"value\": state[\"value\"] + \"b\"\n",
    "            }\n",
    "        )\n",
    "def node_c(state: State): \n",
    "    print(\"Node C\")\n",
    "    return Command(\n",
    "        goto=END, \n",
    "        update={\n",
    "            \"value\": state[\"value\"] + \"c\"\n",
    "        }\n",
    "    )\n",
    "\n",
    "def node_d(state: State): \n",
    "    print(\"Node D\")\n",
    "    return Command(\n",
    "        goto=END, \n",
    "        update={\n",
    "            \"value\": state[\"value\"] + \"d\"\n",
    "        }\n",
    ")\n",
    "\n",
    "graph = StateGraph(State)\n",
    "\n",
    "graph.add_node(\"node_a\", node_a)\n",
    "graph.add_node(\"node_b\", node_b)\n",
    "graph.add_node(\"node_c\", node_c)\n",
    "graph.add_node(\"node_d\", node_d)\n",
    "\n",
    "graph.set_entry_point(\"node_a\") \n",
    "\n",
    "app = graph.compile(checkpointer=memory)\n",
    "\n",
    "config = {\"configurable\": {\"thread_id\": \"1\"}}\n",
    "\n",
    "initialState = {\n",
    "    \"value\": \"\"\n",
    "}\n",
    "\n",
    "first_result = app.invoke(initialState, config, stream_mode=\"updates\")\n",
    "first_result"
   ]
  },
  {
   "cell_type": "code",
   "execution_count": 7,
   "id": "c7c50e39",
   "metadata": {},
   "outputs": [
    {
     "name": "stdout",
     "output_type": "stream",
     "text": [
      "StateSnapshot(values={'value': 'abc'}, next=(), config={'configurable': {'thread_id': '1', 'checkpoint_ns': '', 'checkpoint_id': '1f07cfa3-c5da-62aa-8003-36f750473dc8'}}, metadata={'source': 'loop', 'step': 3, 'parents': {}}, created_at='2025-08-19T12:44:24.492292+00:00', parent_config={'configurable': {'thread_id': '1', 'checkpoint_ns': '', 'checkpoint_id': '1f07cfa3-c5d6-604c-8002-d194af6ca999'}}, tasks=(), interrupts=())\n",
      "StateSnapshot(values={'value': 'ab'}, next=('node_c',), config={'configurable': {'thread_id': '1', 'checkpoint_ns': '', 'checkpoint_id': '1f07cfa3-c5d6-604c-8002-d194af6ca999'}}, metadata={'source': 'loop', 'step': 2, 'parents': {}}, created_at='2025-08-19T12:44:24.490592+00:00', parent_config={'configurable': {'thread_id': '1', 'checkpoint_ns': '', 'checkpoint_id': '1f07cfa2-05ac-6bd2-8001-05f228ac86d6'}}, tasks=(PregelTask(id='4df825d1-6773-83e4-b9fa-8b0c424504d2', name='node_c', path=('__pregel_pull', 'node_c'), error=None, interrupts=(), state=None, result={'value': 'abc'}),), interrupts=())\n",
      "StateSnapshot(values={'value': 'a'}, next=('node_b',), config={'configurable': {'thread_id': '1', 'checkpoint_ns': '', 'checkpoint_id': '1f07cfa2-05ac-6bd2-8001-05f228ac86d6'}}, metadata={'source': 'loop', 'step': 1, 'parents': {}}, created_at='2025-08-19T12:43:37.497487+00:00', parent_config={'configurable': {'thread_id': '1', 'checkpoint_ns': '', 'checkpoint_id': '1f07cfa2-05a9-67ac-8000-d0f62f8315a9'}}, tasks=(PregelTask(id='9321c8d2-0d78-ec6e-94d8-3ddcc53f81f5', name='node_b', path=('__pregel_pull', 'node_b'), error=None, interrupts=(Interrupt(value='would u like to go to c or d', id='b1bfa2ec0a75dbbe50de3da33a772c11'),), state=None, result={'value': 'ab'}),), interrupts=(Interrupt(value='would u like to go to c or d', id='b1bfa2ec0a75dbbe50de3da33a772c11'),))\n",
      "StateSnapshot(values={'value': ''}, next=('node_a',), config={'configurable': {'thread_id': '1', 'checkpoint_ns': '', 'checkpoint_id': '1f07cfa2-05a9-67ac-8000-d0f62f8315a9'}}, metadata={'source': 'loop', 'step': 0, 'parents': {}}, created_at='2025-08-19T12:43:37.496152+00:00', parent_config={'configurable': {'thread_id': '1', 'checkpoint_ns': '', 'checkpoint_id': '1f07cfa2-05a7-6d3a-bfff-fbb3a8ab0c5e'}}, tasks=(PregelTask(id='e716ca73-cdde-2090-9d30-bbce9db99203', name='node_a', path=('__pregel_pull', 'node_a'), error=None, interrupts=(), state=None, result={'value': 'a'}),), interrupts=())\n",
      "StateSnapshot(values={}, next=('__start__',), config={'configurable': {'thread_id': '1', 'checkpoint_ns': '', 'checkpoint_id': '1f07cfa2-05a7-6d3a-bfff-fbb3a8ab0c5e'}}, metadata={'source': 'input', 'step': -1, 'parents': {}}, created_at='2025-08-19T12:43:37.495475+00:00', parent_config=None, tasks=(PregelTask(id='c1b741a7-e2cc-ad22-fdb9-668e0ffd025a', name='__start__', path=('__pregel_pull', '__start__'), error=None, interrupts=(), state=None, result={'value': ''}),), interrupts=())\n"
     ]
    }
   ],
   "source": [
    "a=app.get_state_history(config=config)\n",
    "for i in a:\n",
    "    print(i)"
   ]
  },
  {
   "cell_type": "code",
   "execution_count": 4,
   "id": "6aefa5e9",
   "metadata": {},
   "outputs": [
    {
     "data": {
      "text/plain": [
       "('node_b',)"
      ]
     },
     "execution_count": 4,
     "metadata": {},
     "output_type": "execute_result"
    }
   ],
   "source": [
    "app.get_state(config=config).next"
   ]
  },
  {
   "cell_type": "code",
   "execution_count": 6,
   "id": "ef683050",
   "metadata": {},
   "outputs": [
    {
     "name": "stdout",
     "output_type": "stream",
     "text": [
      "Node B\n",
      "Human Review Values:  C\n",
      "Node C\n"
     ]
    },
    {
     "data": {
      "text/plain": [
       "[{'node_b': {'value': 'ab'}}, {'node_c': {'value': 'abc'}}]"
      ]
     },
     "execution_count": 6,
     "metadata": {},
     "output_type": "execute_result"
    }
   ],
   "source": [
    "second_result = app.invoke(Command(resume=\"C\"), config=config, stream_mode=\"updates\")\n",
    "second_result"
   ]
  },
  {
   "cell_type": "code",
   "execution_count": null,
   "id": "6e2ce025",
   "metadata": {},
   "outputs": [],
   "source": []
  }
 ],
 "metadata": {
  "kernelspec": {
   "display_name": "myenv",
   "language": "python",
   "name": "python3"
  },
  "language_info": {
   "codemirror_mode": {
    "name": "ipython",
    "version": 3
   },
   "file_extension": ".py",
   "mimetype": "text/x-python",
   "name": "python",
   "nbconvert_exporter": "python",
   "pygments_lexer": "ipython3",
   "version": "3.10.18"
  }
 },
 "nbformat": 4,
 "nbformat_minor": 5
}
